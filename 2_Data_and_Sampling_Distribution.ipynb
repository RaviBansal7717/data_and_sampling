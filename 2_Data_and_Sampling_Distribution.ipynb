{
  "nbformat": 4,
  "nbformat_minor": 0,
  "metadata": {
    "colab": {
      "name": "2 Data and Sampling Distribution.ipynb",
      "provenance": [],
      "collapsed_sections": []
    },
    "kernelspec": {
      "display_name": "Python 3",
      "name": "python3"
    }
  },
  "cells": [
    {
      "cell_type": "markdown",
      "metadata": {
        "id": "VoL421doQmlx"
      },
      "source": [
        "# Statistics\r\n",
        "<center>\r\n",
        "<img src=\"https://drive.google.com/uc?id=11MRSI_u_Z0_nMJjoiqvjB0m_keysE1Gg\" height=\"200\" width=\"400\">\r\n",
        "</center>\r\n",
        "\r\n",
        "* The best definition of statistics is perhaps given by Croxton and Cowden according to whom statistics may be defined as <br><strong>\"the science which deals with the collection, analysis and interpretation of numerical data.\"</strong>\r\n",
        "* It can be defined either as <strong>'statistical data'</strong>,\r\n",
        "i.e., numerical statement of facts, or as <strong>'statistical methods'</strong>, i.e. complete body of the principles and techniques used in collecting and analysing such data.<br>\r\n",
        "\r\n",
        "### Why study statistics?\r\n",
        "<center>\r\n",
        "<img style=\"float:left;\" src=\"https://drive.google.com/uc?id=1S3lrVDFZiUwm_6fEhqB27_jPbNBuY0AS\" height=\"300\" width=\"300\">\r\n",
        "&nbsp;&nbsp;&nbsp;&nbsp;&nbsp;&nbsp;&nbsp;&nbsp;&nbsp;\r\n",
        "<img style=\"float:rigth;\" src=\"https://drive.google.com/uc?id=1PbfKo9tLKejBooSmXOnjMbsnA-2dKGz0\" height=\"300\" width=\"300\">\r\n",
        "</center>\r\n",
        "\r\n",
        "#### <strong>Key Takeaway:</strong><br> \r\n",
        "* Statistics is study of data and data is everywhere."
      ]
    },
    {
      "cell_type": "code",
      "metadata": {
        "id": "7xzmQl80owcO"
      },
      "source": [
        ""
      ],
      "execution_count": null,
      "outputs": []
    },
    {
      "cell_type": "markdown",
      "metadata": {
        "id": "Th9TdOwD33lT"
      },
      "source": [
        "# Probability Distributions\r\n",
        "* <strong>Random Variable: </strong>It is a function that assigns a numerical value to each possible outcome of an experiment.<br>\r\n",
        "A random variable maps events to numerical values on real line.\r\n",
        "* <strong>Distribution function: </strong>A distribution function is a mathematical encoding of the probability law of all events of the experiment.<br>\r\n",
        "It is a statistical function that describes all the possible values and likelihoods that a random variable can take within a given range\r\n",
        "\r\n",
        "### Types\r\n",
        "* <strong>Discrete Probability Distribution(Probability Mass Function): </strong>It is probability distribution of a discrete random variable.<br>\r\n",
        "A discrete random variable takes at most a countable number of values ie. a function defined on a discrete sample space.\r\n",
        "\r\n",
        "* <strong>Continuous Probability Distribution(Probability Density Function): </strong>It is probability distribution of a continuous random variable.<br>\r\n",
        "A continuous random variable can take all possible values within certain limits."
      ]
    },
    {
      "cell_type": "markdown",
      "metadata": {
        "id": "zkGH6MKXf5K0"
      },
      "source": [
        "## Binomial Distribution\r\n",
        "* A random variable X is said to follow binomial distribution if it assumes only non-negative vallues and its proability mass function is given by\r\n",
        "\r\n",
        "---\r\n",
        "$$ P(X=x)=p(x)=\\left\\{\\begin{array}{l}\r\n",
        "\\left(\\begin{array}{l}\r\n",
        "n \\\\\r\n",
        "x\r\n",
        "\\end{array}\\right) p^{x} q^{n-x} ; x=0,1,2, \\ldots, n ; \\quad q=1-p \\\\\r\n",
        "0, \\text { otherwise }\r\n",
        "\\end{array}\\right. $$\r\n",
        "<br> $$ where $$\r\n",
        "$$ \\left(\\begin{array}{l}\r\n",
        "n \\\\\r\n",
        "x\r\n",
        "\\end{array}\\right) = \\frac{n!}{x!*(n-x)!} ; \\quad x! = x*(x-1)*(x-2)* \\ldots *3*2*1 $$\r\n",
        "\r\n",
        "<br>\r\n",
        "<br> $$ n = number \\; of \\; trials $$\r\n",
        "<br> $$ p = probability \\; of \\; success $$\r\n",
        "<br> $$ q = probability \\; of \\; failure $$\r\n",
        "<br>\r\n",
        "\r\n",
        "---\r\n",
        "\r\n",
        "* It can simply be thought of as the probability of SUCCESS or FAILURE outcome in an experiment or survey that is repeated multiple times.\r\n",
        "* It is a discrete probability distribution.\r\n",
        "\r\n",
        "### Experimental conditions for binomial distribution\r\n",
        "* Each trial results in two mutually disjoint outcomes, termed as success\r\n",
        "and failure.\r\n",
        "* The number of trials 'n' is finite.\r\n",
        "* The trials are independent of each other.\r\n",
        "* The probability of success 'p' is constant for each trial.<br><br>\r\n",
        "The problems relating to tossing of a coin or throwing of dice or drawing\r\n",
        "cards from a pack of cards with replacement leads to binomial probability\r\n",
        "distribution."
      ]
    },
    {
      "cell_type": "markdown",
      "metadata": {
        "id": "H3jYg4BNryNL"
      },
      "source": [
        "# Python demonstration of binomial distribution.\r\n",
        "#### Let's simulate an experiment of tossing 10 biased coins with a probability of heads = 0.7 and repeat the experiment 1000 times "
      ]
    },
    {
      "cell_type": "code",
      "metadata": {
        "id": "aaLol0y2xkEP"
      },
      "source": [
        "#Imports\r\n",
        "import pandas as pd\r\n",
        "import random\r\n",
        "import seaborn as sns\r\n",
        "import numpy as np\r\n",
        "import matplotlib.pyplot as plt\r\n",
        "import warnings\r\n",
        "warnings.filterwarnings(\"ignore\")"
      ],
      "execution_count": 14,
      "outputs": []
    },
    {
      "cell_type": "code",
      "metadata": {
        "id": "kIiFRlG5xEKN",
        "colab": {
          "base_uri": "https://localhost:8080/"
        },
        "outputId": "cdceffa2-7f47-435e-ea58-967ea59008e6"
      },
      "source": [
        "p = 0.7\r\n",
        "n = 10\r\n",
        "N = 1000\r\n",
        "toss_results = np.random.binomial(n,p,N)\r\n",
        "counts = [toss_results.tolist().count(x) for x in range(0,n+1,1)]\r\n",
        "for i in range(0,n+1,1):\r\n",
        "  print(\"Number of times \",i,\" coins (out of \",n,\") landed heads : \",counts[i])"
      ],
      "execution_count": null,
      "outputs": [
        {
          "output_type": "stream",
          "text": [
            "Number of times  0  coins (out of  10 ) landed heads :  0\n",
            "Number of times  1  coins (out of  10 ) landed heads :  0\n",
            "Number of times  2  coins (out of  10 ) landed heads :  4\n",
            "Number of times  3  coins (out of  10 ) landed heads :  7\n",
            "Number of times  4  coins (out of  10 ) landed heads :  45\n",
            "Number of times  5  coins (out of  10 ) landed heads :  125\n",
            "Number of times  6  coins (out of  10 ) landed heads :  181\n",
            "Number of times  7  coins (out of  10 ) landed heads :  266\n",
            "Number of times  8  coins (out of  10 ) landed heads :  221\n",
            "Number of times  9  coins (out of  10 ) landed heads :  133\n",
            "Number of times  10  coins (out of  10 ) landed heads :  18\n"
          ],
          "name": "stdout"
        }
      ]
    },
    {
      "cell_type": "code",
      "metadata": {
        "id": "uWNlC5ns2TIa",
        "colab": {
          "base_uri": "https://localhost:8080/",
          "height": 284
        },
        "outputId": "a87130b9-4cb9-4870-ee00-f3f9181502e4"
      },
      "source": [
        "plt.bar([i for i in range(0,n+1,1)],counts,color=\"seagreen\",width=0.7)\r\n",
        "plt.xlabel(\"Number of coins showing heads\",fontsize=15)\r\n",
        "plt.ylabel(\"Frequency\",fontsize=15)\r\n",
        "plt.show()"
      ],
      "execution_count": null,
      "outputs": [
        {
          "output_type": "display_data",
          "data": {
            "image/png": "[encoded data removed]",
            "text/plain": [
              "<Figure size 432x288 with 1 Axes>"
            ]
          },
          "metadata": {
            "tags": [],
            "needs_background": "light"
          }
        }
      ]
    },
    {
      "cell_type": "markdown",
      "metadata": {
        "id": "WR2b5tLVx6GE"
      },
      "source": [
        "##### <strong>Key Takeaway:</strong> Binomial distribution tells the probability of how often there will be a success in 'n' independent events, each of which can only result in only 2 possible outcomes (Yes/No or Success/Failure)."
      ]
    },
    {
      "cell_type": "code",
      "metadata": {
        "id": "ZTHcQJEqo9n7"
      },
      "source": [
        ""
      ],
      "execution_count": null,
      "outputs": []
    },
    {
      "cell_type": "markdown",
      "metadata": {
        "id": "YND6WhDTyhul"
      },
      "source": [
        "## Poisson Distribution\r\n",
        "* A random variable X is said to follow a Poisson distribution if it assumes only non-negative values and its probability mass function is given by\r\n",
        "\r\n",
        "---\r\n",
        "$$ p(x,\\lambda)=P(X=x)=\\left\\{\\begin{array}{l}\r\n",
        " \\frac{e^{-\\lambda}{\\lambda^x}}{x!}; \\quad x = 0,1,2,\\ldots; \\quad \\lambda>0 \\\\\r\n",
        "0, \\text { otherwise }\r\n",
        "\\end{array}\\right. $$\r\n",
        "<br> <br> $$ where $$\r\n",
        "<br> $$ e = Euler's \\; number (base \\; of \\; natural \\; logarithms) $$ \r\n",
        "<br> $$ \\lambda = Mean \\; of \\; distribution \\; (average \\; number \\; of \\; occurences \\; in \\; givem \\; interval) $$\r\n",
        "<br> $$ \\lambda \\; is \\; known \\; as \\; the \\; parameter \\; of \\; distribution $$\r\n",
        "<br>\r\n",
        "\r\n",
        "---\r\n",
        "* It occurs when events occur at random points of time and space wherein our interest lies only in the number of occurrences of the event, not in its non-occurrences and unlike binomial they don't occur as outcomes of a definite number of trials.\r\n",
        "* It tells about how probable it is that a certain number of events happen in a fixed interval of time or space.\r\n",
        "* It is a discrete probability distribution.\r\n",
        "\r\n",
        "### Experimental conditions for poisson distribution\r\n",
        "* Events are independent of each other.\r\n",
        "* Average rate between occurence of events can be considered.\r\n",
        "* The number of trials 'n' converges to infinite (n -> infinity).\r\n",
        "* The probability of success 'p' is very very small (p -> 0).<br><br>\r\n",
        "The problems relating to number of defectives in packaging, number of suicides reported in a particular city, number of printing mistakes at each page of a book, emission of radioactive particles etc. leads to poisson probability distribution."
      ]
    },
    {
      "cell_type": "markdown",
      "metadata": {
        "id": "l8UAwwsWLlL2"
      },
      "source": [
        "#### Example to demonstrate working of poisson distribution.\r\n",
        "#### <strong>Problem Statement: </strong>In a book of 520 pages, 390 typo-graphical errors occur. Assuming Poisson law for the number of errors per page, find the probability that a random sample of 5 pages will contain no error.\r\n"
      ]
    },
    {
      "cell_type": "markdown",
      "metadata": {
        "id": "lt00ljQjBcBx"
      },
      "source": [
        "# Python demonstration of poisson distribution.\r\n"
      ]
    },
    {
      "cell_type": "code",
      "metadata": {
        "id": "AY1e3XNjNGYO"
      },
      "source": [
        "def factorial(x):\r\n",
        "  \"\"\"\r\n",
        "  Function to calculate factorial of a given number 'x'.\r\n",
        "  \"\"\"\r\n",
        "  if(x == 0):\r\n",
        "    return 1\r\n",
        "  if(x == 1):\r\n",
        "    return 1\r\n",
        "  else:\r\n",
        "    return x*factorial(x-1)\r\n",
        "\r\n",
        "\r\n",
        "def calculate_poisson(lamda,x):\r\n",
        "  \"\"\"\r\n",
        "  Function to calculate probability according to the poisson law.\r\n",
        "\r\n",
        "  Parameters:\r\n",
        "  lamda: Mean number of occurences in the given interval (Mean of distribution).\r\n",
        "  x: Number of occurences for which probability is to be calculated.\r\n",
        "\r\n",
        "  Returns:\r\n",
        "  Probability of 'x' number of occurences in the given interval according to poisson law with lamda as paramter.\r\n",
        "  \"\"\"\r\n",
        "  return np.exp(-lamda)*np.power(lamda,x)/(factorial(x))"
      ],
      "execution_count": null,
      "outputs": []
    },
    {
      "cell_type": "markdown",
      "metadata": {
        "id": "ZXDYex9YOAwt"
      },
      "source": [
        "#### For our problem:\r\n",
        "* <strong>Event of interest:</strong> Occurence of typographical mistake.\r\n",
        "* <strong>Interval of interest:</strong> The entire book of 520 pages\r\n",
        "* <strong>Average number of occurences:</strong> Average number of errors per page $$\\lambda = 390/520 = 0.75$$\r\n",
        "* <strong>Number of occurences of interest: </strong> Zero. We are looking for chances of having 5 pages having 0 number of mistakes.\r\n",
        "$$ x = 0$$ <br><br>\r\n",
        "* <strong>Probability of interest:</strong> Chances of having 5 pages without any mistakes.\r\n",
        "$$P(X = 0)^5$$\r\n",
        "\r\n",
        "Probability of having a page having 0 mistakes can be calculated using the poisson law as follows:"
      ]
    },
    {
      "cell_type": "code",
      "metadata": {
        "colab": {
          "base_uri": "https://localhost:8080/"
        },
        "id": "ts6ntlEjPRLU",
        "outputId": "c99282fe-5a3a-4b7c-e5b9-804513cbd3d7"
      },
      "source": [
        "prob_0_mistakes = calculate_poisson(0.75,0)\r\n",
        "print(\"Probability of having a page with 0 number of mistakes is  : \",prob_0_mistakes)"
      ],
      "execution_count": null,
      "outputs": [
        {
          "output_type": "stream",
          "text": [
            "Probability of having a page with 0 number of mistakes is  :  0.4723665527410147\n"
          ],
          "name": "stdout"
        }
      ]
    },
    {
      "cell_type": "markdown",
      "metadata": {
        "id": "y8hkcRx_PveQ"
      },
      "source": [
        "* Since each page is independent of each other, so its a case of independent events and we can multiply the probabilities."
      ]
    },
    {
      "cell_type": "code",
      "metadata": {
        "colab": {
          "base_uri": "https://localhost:8080/"
        },
        "id": "i1YQD1lGQYDW",
        "outputId": "6a53d7cd-fe3f-4a2a-e636-f02a237c1252"
      },
      "source": [
        "print(\"Probability that a random sample of 5 pages won't have any mistakes is  : \",prob_0_mistakes**5)"
      ],
      "execution_count": null,
      "outputs": [
        {
          "output_type": "stream",
          "text": [
            "Probability that a random sample of 5 pages won't have any mistakes is  :  0.023517745856009104\n"
          ],
          "name": "stdout"
        }
      ]
    },
    {
      "cell_type": "markdown",
      "metadata": {
        "id": "vfV8BsygQw0v"
      },
      "source": [
        "##### <strong>Key Takeaway:</strong> The probability that a random sample of 5 pages won't have any mistakes turns out to be 0.02351 which is fairly low and it makes sense as according to the data, the average number of mistakes per page for this book is 0.75, which implies that \"on an average\" a sample of 5 pages should have 0.75*5 = 3.75 mistakes and so chances of finding a 5 page sample having 0 mistakes should be fairly low."
      ]
    },
    {
      "cell_type": "markdown",
      "metadata": {
        "id": "PvHBddaeZyQl"
      },
      "source": [
        "#### Let us draw random variates, from poisson distribution,  which represent number of mistakes for each page for all of the 520 pages of the book."
      ]
    },
    {
      "cell_type": "code",
      "metadata": {
        "colab": {
          "base_uri": "https://localhost:8080/"
        },
        "id": "53KV7GSqZxg_",
        "outputId": "acf5b135-70e1-4d69-d487-cbb265dfe548"
      },
      "source": [
        "lamda = 0.75\r\n",
        "size = 520\r\n",
        "poisson_rvs = np.random.poisson(lamda,size)\r\n",
        "print(\"Number of mistakes for first 10 pages : \",poisson_rvs[:10])"
      ],
      "execution_count": null,
      "outputs": [
        {
          "output_type": "stream",
          "text": [
            "Number of mistakes for first 10 pages :  [1 0 0 0 2 0 0 0 1 0]\n"
          ],
          "name": "stdout"
        }
      ]
    },
    {
      "cell_type": "code",
      "metadata": {
        "colab": {
          "base_uri": "https://localhost:8080/",
          "height": 338
        },
        "id": "zDPkksvFc3t6",
        "outputId": "11bdecaf-7a35-4b80-f2af-2f18d2f619e9"
      },
      "source": [
        "# Visualization of poisson distribution for number of mistakes\r\n",
        "sns.distplot(poisson_rvs,color=\"royalblue\")\r\n",
        "plt.xticks(list(set(poisson_rvs)))\r\n",
        "plt.xlabel(\"Number of mistakes (per page)\",fontsize=15)\r\n",
        "plt.ylabel(\"Density\",fontsize=15)\r\n",
        "plt.show()"
      ],
      "execution_count": null,
      "outputs": [
        {
          "output_type": "stream",
          "text": [
            "/usr/local/lib/python3.6/dist-packages/seaborn/distributions.py:2557: FutureWarning: `distplot` is a deprecated function and will be removed in a future version. Please adapt your code to use either `displot` (a figure-level function with similar flexibility) or `histplot` (an axes-level function for histograms).\n",
            "  warnings.warn(msg, FutureWarning)\n"
          ],
          "name": "stderr"
        },
        {
          "output_type": "display_data",
          "data": {
            "image/png": "[encoded data removed]",
            "text/plain": [
              "<Figure size 432x288 with 1 Axes>"
            ]
          },
          "metadata": {
            "tags": [],
            "needs_background": "light"
          }
        }
      ]
    },
    {
      "cell_type": "markdown",
      "metadata": {
        "id": "tefF2EcTgCuY"
      },
      "source": [
        "#### What does this plot actually show? How is it even related to the poisson law?"
      ]
    },
    {
      "cell_type": "code",
      "metadata": {
        "id": "J_r_b2-Yn8Xc",
        "colab": {
          "base_uri": "https://localhost:8080/"
        },
        "outputId": "1c83c4de-f65c-4cc3-c48e-1d422bc52e55"
      },
      "source": [
        "# Analyzing python generated data\r\n",
        "for value in set(poisson_rvs):\r\n",
        "  count = np.sum(poisson_rvs == value)\r\n",
        "  print(\"Number of pages in the simulated book with \",value,\" mistakes : \",count)\r\n",
        "\r\n",
        "#Use [h.get_height() for h in plot.patches if h.get_height()!=0] to analyze density ratios"
      ],
      "execution_count": null,
      "outputs": [
        {
          "output_type": "stream",
          "text": [
            "Number of pages in the simulated book with  0  mistakes :  244\n",
            "Number of pages in the simulated book with  1  mistakes :  189\n",
            "Number of pages in the simulated book with  2  mistakes :  67\n",
            "Number of pages in the simulated book with  3  mistakes :  19\n",
            "Number of pages in the simulated book with  5  mistakes :  1\n"
          ],
          "name": "stdout"
        }
      ]
    },
    {
      "cell_type": "code",
      "metadata": {
        "colab": {
          "base_uri": "https://localhost:8080/"
        },
        "id": "5d-DQYKrZDXp",
        "outputId": "673323c4-6283-43fb-a7af-4d72131399e4"
      },
      "source": [
        "# Analyzing data from poisson law\r\n",
        "for value in set(poisson_rvs):\r\n",
        "  print(\"Number of pages having \",value,\" mistakes (acc. to poisson law) : \",calculate_poisson(lamda,value)*size)"
      ],
      "execution_count": null,
      "outputs": [
        {
          "output_type": "stream",
          "text": [
            "Number of pages having  0  mistakes (acc. to poisson law) :  245.63060742532764\n",
            "Number of pages having  1  mistakes (acc. to poisson law) :  184.2229555689957\n",
            "Number of pages having  2  mistakes (acc. to poisson law) :  69.0836083383734\n",
            "Number of pages having  3  mistakes (acc. to poisson law) :  17.27090208459335\n",
            "Number of pages having  5  mistakes (acc. to poisson law) :  0.48574412112918797\n"
          ],
          "name": "stdout"
        }
      ]
    },
    {
      "cell_type": "code",
      "metadata": {
        "colab": {
          "base_uri": "https://localhost:8080/"
        },
        "id": "kva_K5QMk-oN",
        "outputId": "c72fde17-fae3-4106-b44b-d3e646c6078f"
      },
      "source": [
        "print(\"Actual (theoretical) mean of the distribution : \",lamda,\" mistakes per page\")\r\n",
        "print(\"Empirical (generated) mean of the distribution : \",np.round(np.mean(poisson_rvs),4),\" mistakes per page\")"
      ],
      "execution_count": null,
      "outputs": [
        {
          "output_type": "stream",
          "text": [
            "Actual (theoretical) mean of the distribution :  0.75  mistakes per page\n",
            "Empirical (generated) mean of the distribution :  0.7404  mistakes per page\n"
          ],
          "name": "stdout"
        }
      ]
    },
    {
      "cell_type": "markdown",
      "metadata": {
        "id": "PlYImjJXkowb"
      },
      "source": [
        "#### Observation\r\n",
        "* The data generated by python and the frequency generated from poisson law are pretty close whch implies that the data generated is in accordance with the law."
      ]
    },
    {
      "cell_type": "markdown",
      "metadata": {
        "id": "w1hKEyRgFKGD"
      },
      "source": [
        "##### <strong>Key Takeaway:</strong> Poisson distribution describes probability of occurence of 'x' events in the observed interval of time.\r\n"
      ]
    },
    {
      "cell_type": "code",
      "metadata": {
        "id": "8XqytgiupERu"
      },
      "source": [
        ""
      ],
      "execution_count": null,
      "outputs": []
    },
    {
      "cell_type": "markdown",
      "metadata": {
        "id": "NOlsEdyGzh67"
      },
      "source": [
        "## Gaussian Distribution\r\n",
        "* A random variable X is said to have a normal distribution with parameters μ (called \"mean\") and σ^2 (called \"variance\") if its density function is given by the probability law:\r\n",
        "---\r\n",
        "$$ f(x ; \\mu, \\sigma)=\\frac{1}{\\sigma \\sqrt{2 \\pi}} e^{-(x-\\mu)^{2} / 2 \\sigma^{2}} ; \\quad  -\\infty<x<\\infty,\\; -\\infty<\\mu<\\infty,\\; \\sigma>0 $$\r\n",
        "<br> $$ where $$ \r\n",
        "<br> $$ \\mu = Mean \\; of \\; distribution $$\r\n",
        "<br> $$ \\sigma = Standard \\; deviation \\; of \\; distribution $$\r\n",
        "<br>\r\n",
        "\r\n",
        "---\r\n",
        "* It is also known as Normal distribution and is the most important probability model in statistical analysis.\r\n",
        "* The graph of f(x) is the famous 'bell-shaped' curve. The top of the bell\r\n",
        "is directly above the mean μ. For large values of σ, the curve tends to flatten out and for small values of σ, it has a sharp peak.\r\n",
        "<center>\r\n",
        "<img src=\"https://drive.google.com/uc?id=1xDxj7c75mqa7vgNakUc6AEdDfLttVjod\" height=\"300\" width=\"700\">\r\n",
        "<center>\r\n",
        "\r\n",
        "* It is a continuous probability distribution.\r\n",
        "\r\n",
        "### Why it is so special?\r\n",
        "* The area property of the bell shaped curve forms the basis of large samples testing.\r\n",
        "* Under appropriate conditions, all other distributions can be approximated by normal distribution."
      ]
    },
    {
      "cell_type": "markdown",
      "metadata": {
        "id": "gpDjpEab_gY8"
      },
      "source": [
        "# Python implementation of normal distribution."
      ]
    },
    {
      "cell_type": "code",
      "metadata": {
        "colab": {
          "base_uri": "https://localhost:8080/",
          "height": 284
        },
        "id": "Wv3UIdSsidaB",
        "outputId": "9f29c8d2-5311-4a06-e9cb-1d6d47f1cba4"
      },
      "source": [
        "mu = 5.0\r\n",
        "sigma = 1.0\r\n",
        "size = 1000\r\n",
        "gaussian_rvs = np.random.normal(mu,sigma,size)\r\n",
        "sns.distplot(gaussian_rvs,color=\"orange\")\r\n",
        "plt.ylabel(\"Density\",fontsize=15)\r\n",
        "plt.xlabel(\"Values\",fontsize=15)\r\n",
        "plt.show()"
      ],
      "execution_count": null,
      "outputs": [
        {
          "output_type": "display_data",
          "data": {
            "image/png": "[encoded data removed]",
            "text/plain": [
              "<Figure size 432x288 with 1 Axes>"
            ]
          },
          "metadata": {
            "tags": [],
            "needs_background": "light"
          }
        }
      ]
    },
    {
      "cell_type": "code",
      "metadata": {
        "colab": {
          "base_uri": "https://localhost:8080/"
        },
        "id": "jHDmQt2Q_6eN",
        "outputId": "cb73ead8-ed0f-46b7-d292-ba7d8c082e1a"
      },
      "source": [
        "# A quick look at values generated by the distribution\r\n",
        "gaussian_rvs[:10]"
      ],
      "execution_count": null,
      "outputs": [
        {
          "output_type": "execute_result",
          "data": {
            "text/plain": [
              "array([5.41439929, 4.62514903, 3.93468467, 4.61696054, 6.14162771,\n",
              "       3.91701264, 5.32736882, 4.31002247, 6.11825794, 4.70946186])"
            ]
          },
          "metadata": {
            "tags": []
          },
          "execution_count": 10
        }
      ]
    },
    {
      "cell_type": "markdown",
      "metadata": {
        "id": "TBV8qHJGCMIv"
      },
      "source": [
        "### Where is the probability?\r\n",
        "* Since, normal distribution is a continuous density function, so the concept of probability at a point is no loner applicable i.e.\r\n",
        "$$P(X = x) = 0 \\quad for\\;all\\;values\\;of\\;x$$\r\n",
        "* For a continuous distribution, we can only talk about probability between a range of values such as which is given by area under the bell shaped curve and is obtained by integrating the probability density function under proper limits.\r\n",
        "\r\n",
        "---\r\n",
        "$$P(a \\leq X \\leq b) =   \\int_a^b \\frac{1}{\\sigma \\sqrt{2 \\pi}}\\;e^{-\\frac{(t-\\mu)^2}{2 \\sigma^2}} dt$$\r\n",
        "\r\n",
        "---\r\n",
        "<br>\r\n",
        "<center>\r\n",
        "<img src=\"https://drive.google.com/uc?id=1sZ0O691cQAdgsJ1eWhTlwgAbnVVW5ndr\" height=\"300\" width=\"700\">\r\n",
        "<center>\r\n"
      ]
    },
    {
      "cell_type": "code",
      "metadata": {
        "id": "844qvZZoCIq1"
      },
      "source": [
        "from scipy.integrate import quad\r\n",
        "\r\n",
        "def normal_probability_density(x,mu,sigma):\r\n",
        "  \"\"\"\r\n",
        "  Function to evaluate normal pdf at given value.\r\n",
        "\r\n",
        "  Parameters:\r\n",
        "  x: The value of x at which to evaluate pdf.Should be the first argument.\r\n",
        "  mu: Mean of distribution\r\n",
        "  sigma: Standard deviation of distribution\r\n",
        "\r\n",
        "  Returns:\r\n",
        "  The normal pdf evaluated at the value x.\r\n",
        "  \"\"\"\r\n",
        "  constant_term = 1.0/(sigma*np.sqrt(2*np.pi))\r\n",
        "  return constant_term * np.exp((-1/2)*(((x-mu)/sigma)**2))\r\n",
        "\r\n",
        "\r\n",
        "def integrate_pdf(a,b,mu,sigma):\r\n",
        "  \"\"\"\r\n",
        "  Function to integrate normal pdf to find probability.\r\n",
        "\r\n",
        "  Parameters:\r\n",
        "  a: The lower limit\r\n",
        "  b: The upper limit\r\n",
        "  mu: Mean of distribution\r\n",
        "  sigma: Standard deviation of distribution\r\n",
        "  \"\"\"\r\n",
        "  area,_ = quad(func = normal_probability_density,a = a,b = b,args=(mu,sigma))\r\n",
        "  return area\r\n"
      ],
      "execution_count": null,
      "outputs": []
    },
    {
      "cell_type": "code",
      "metadata": {
        "colab": {
          "base_uri": "https://localhost:8080/"
        },
        "id": "1qGoyOcsAyLb",
        "outputId": "3b60e0a1-7cc4-4d41-ea7a-731402b5e60e"
      },
      "source": [
        "print(\"Probability that x lies within one standard deviation from mean is : \",np.round(integrate_pdf(mu-sigma,mu+sigma,mu,sigma),3))\r\n",
        "print(\"Probability that x lies within two standard deviations from mean is : \",np.round(integrate_pdf(mu-2*sigma,mu+2*sigma,mu,sigma),3))\r\n",
        "print(\"Probability that x lies within three standard deviations from mean is : \",np.round(integrate_pdf(mu-3*sigma,mu+3*sigma,mu,sigma),3))\r\n",
        "print(\"Probability that x lies outside three standard deviations from mean limit is : \",np.round(integrate_pdf(-np.inf,mu-3*sigma,mu,sigma)+integrate_pdf(mu+3*sigma,np.inf,mu,sigma),3))\r\n",
        "print(\"Probability at a single point : \",np.round(integrate_pdf(mu,mu,mu,sigma),3))\r\n",
        "print(\"Probability that x lies within the first half of the curve is :  \",np.round(integrate_pdf(-np.inf,mu,mu,sigma),3))\r\n",
        "print(\"Probability that x lies within the right half of the curve is :  \",np.round(integrate_pdf(mu,np.inf,mu,sigma),3))\r\n",
        "print(\"Probability or area under the entire curve is :  \",np.round(integrate_pdf(-np.inf,np.inf,mu,sigma),3))\r\n",
        "a = 1.289\r\n",
        "b = 5.239\r\n",
        "print(\"Probability that x lies between any two points ,\",a,\" and \",b,\" is : \",np.round(integrate_pdf(a,b,mu,sigma),3))"
      ],
      "execution_count": null,
      "outputs": [
        {
          "output_type": "stream",
          "text": [
            "Probability that x lies within one standard deviation from mean is :  0.683\n",
            "Probability that x lies within two standard deviations from mean is :  0.954\n",
            "Probability that x lies within three standard deviations from mean is :  0.997\n",
            "Probability that x lies outside three standard deviations from mean limit is :  0.003\n",
            "Probability at a single point :  0.0\n",
            "Probability that x lies within the first half of the curve is :   0.5\n",
            "Probability that x lies within the right half of the curve is :   0.5\n",
            "Probability or area under the entire curve is :   1.0\n",
            "Probability that x lies between any two points , 1.289  and  5.239  is :  0.594\n"
          ],
          "name": "stdout"
        }
      ]
    },
    {
      "cell_type": "markdown",
      "metadata": {
        "id": "iOjuRB5uJ0sm"
      },
      "source": [
        "## Effect of mean on the shape of the curve\r\n",
        "* The peak of the curve is directly above the mean of the distribution. So a change in mean brings about shifting of the curve along the horizontal axis.\r\n"
      ]
    },
    {
      "cell_type": "code",
      "metadata": {
        "colab": {
          "base_uri": "https://localhost:8080/",
          "height": 320
        },
        "id": "HCeGrr3VEE-q",
        "outputId": "841b79ce-af4f-4f33-fbb7-1f42b9982471"
      },
      "source": [
        "# 3 gaussians having same standard deviation but different mean\r\n",
        "gaussian1 = np.random.normal(80.0,5.0,1000)\r\n",
        "gaussian2 = np.random.normal(100.0,5.0,1000)\r\n",
        "gaussian3 = np.random.normal(120.0,5.0,1000)\r\n",
        "plt.figure(figsize=(9,5))\r\n",
        "sns.distplot(gaussian1,hist=False,label=\"μ = 80.0 , σ = 5.0\")\r\n",
        "sns.distplot(gaussian2,hist=False,label=\"μ = 100.0 , σ = 5.0\")\r\n",
        "sns.distplot(gaussian3,hist=False,label=\"μ = 120.0 , σ = 5.0\")\r\n",
        "plt.legend(loc=\"upper right\")\r\n",
        "plt.show()"
      ],
      "execution_count": null,
      "outputs": [
        {
          "output_type": "display_data",
          "data": {
            "image/png": "[encoded data removed]",
            "text/plain": [
              "<Figure size 648x360 with 1 Axes>"
            ]
          },
          "metadata": {
            "tags": [],
            "needs_background": "light"
          }
        }
      ]
    },
    {
      "cell_type": "markdown",
      "metadata": {
        "id": "Y4xzbMNjMlzx"
      },
      "source": [
        "## Effect of standard deviation on the shape of the curve\r\n",
        "* Standard deviation is like scale of he curve and it determines the \"spread\" or the width. The more the standard deviation, more will be scattering of values and hence a flattened out bell.\r\n"
      ]
    },
    {
      "cell_type": "code",
      "metadata": {
        "colab": {
          "base_uri": "https://localhost:8080/",
          "height": 320
        },
        "id": "EvC4a5YqImny",
        "outputId": "9959090b-4c12-412a-f80d-0f945552e58c"
      },
      "source": [
        "# 3 gaussians having different standard deviation but same mean\r\n",
        "gaussian1 = np.random.normal(100.0,5.0,1000)\r\n",
        "gaussian2 = np.random.normal(100.0,10.0,1000)\r\n",
        "gaussian3 = np.random.normal(100.0,20.0,1000)\r\n",
        "plt.figure(figsize=(9,5))\r\n",
        "sns.distplot(gaussian1,hist=False,label=\"μ = 100.0 , σ = 5.0\")\r\n",
        "sns.distplot(gaussian2,hist=False,label=\"μ = 100.0 , σ = 10.0\")\r\n",
        "sns.distplot(gaussian3,hist=False,label=\"μ = 100.0 , σ = 20.0\")\r\n",
        "plt.legend(loc=\"upper right\")\r\n",
        "plt.show()"
      ],
      "execution_count": null,
      "outputs": [
        {
          "output_type": "display_data",
          "data": {
            "image/png": "[encoded data removed]",
            "text/plain": [
              "<Figure size 648x360 with 1 Axes>"
            ]
          },
          "metadata": {
            "tags": [],
            "needs_background": "light"
          }
        }
      ]
    },
    {
      "cell_type": "markdown",
      "metadata": {
        "id": "UoBa2X5Prub4"
      },
      "source": [
        "### Some important points about normal distribution\r\n",
        "* The curve is symmetrical about the mean and maximum values will always be accumulated close to the mean value.\r\n",
        "\r\n",
        "### 68-95-99.7 Rule\r\n",
        "If a variable follows normal distribution, then\r\n",
        "* 68.2% of data points will be contained within 1 sigma deviation from the mean.\r\n",
        "* 95.4% of data points will be contained within 2 sigma deviation from the mean.\r\n",
        "* 99.7% of data points will be contained within 3 sigma deviation from the mean.\r\n"
      ]
    },
    {
      "cell_type": "code",
      "metadata": {
        "id": "GJKRedoUpHgr"
      },
      "source": [
        ""
      ],
      "execution_count": null,
      "outputs": []
    },
    {
      "cell_type": "markdown",
      "metadata": {
        "id": "nbL2Ro7cVEXY"
      },
      "source": [
        "## Skewness\r\n",
        "* It is a measure of asymmetry of probability distribution of a random variable.\r\n",
        "* A standard normal distribution exhibits zero skewness.\r\n",
        "* Skewness can be quantified as the extent to which a given distribution varies from a normal distribution.\r\n",
        "\r\n",
        "<br>\r\n",
        "<center>\r\n",
        "<img src=\"https://drive.google.com/uc?id=169k1mcIZf7IoWe8htEBS-478JaTiOMoe\" height=\"300\" width=\"700\">\r\n",
        "</center>\r\n",
        "\r\n",
        "### Types of Skewness\r\n",
        "1. <strong>Positively Skewed or Right Tailed: </strong>A longer or flatter tail on the right represents a positive skew. Mass of distribution is concentrated to the right.\r\n",
        "2. <strong>Negatively Skewed or Left Tailed: </strong>A longer or flatter tail on the left represents a negative skew. Mass of distribution is concentrated to the left.\r\n",
        "\r\n",
        "* A zero value of skewness indicates that tails on both sides of mean balance out.\r\n",
        "\r\n",
        "### Why it is important?\r\n",
        "* It indicates whether deviations from mean are going to be positve or negative.\r\n",
        "* Can be used to obtain approximate probablities and quantiles of distributions.\r\n",
        "* With pronounced skewness the standard inference procedures such as confidence intervals for mean will fail."
      ]
    },
    {
      "cell_type": "code",
      "metadata": {
        "id": "D-xFoFCmpI2P"
      },
      "source": [
        ""
      ],
      "execution_count": null,
      "outputs": []
    },
    {
      "cell_type": "markdown",
      "metadata": {
        "id": "89yR0x92eSWr"
      },
      "source": [
        "# Sampling\r\n",
        "Before defining sampling, we will first have a look at population.\r\n",
        "* <strong>Population: </strong>The group of individuals or the aggregate of all objects, animate or inanimate, under study is called population or universe. Population can be finite or infinite.\r\n",
        "* <strong>Sample: </strong>A sample is a finite subset of the population under study.\r\n",
        "\r\n",
        "### Why do we need a sample\r\n",
        "1. Complete enumeration of population is not possible.\r\n",
        "2. Inspection is often destructive.<br>\r\n",
        "eg. investigation of per capita(monthly) income of people in India, inspection of crackers, electric bulbs etc.\r\n",
        "\r\n",
        "#### <strong>Key Takeaways:</strong><br> \r\n",
        "* #### Population is generally always unknown.\r\n",
        "* #### Instead of enumerating the entire population, the individuals in a sample are studied and based on the sample, the population characteristics are estimated.This is known as <i>Inferential Statistics.</i>\r\n",
        "\r\n",
        "### Key types of Sampling\r\n",
        "* <strong>Purposive Sampling: </strong>When sample units are selected with a definite purpose in mind.<br>\r\n",
        "Suffers from drawback of favouritism and is not a representative of the population.\r\n",
        "* <strong>Random Sampling: </strong>When units are selected at random to be a part of sample and each units has an equal chance to be a part of the sample.<br>\r\n",
        "Avoiding human bias from random samples is a big challenge.\r\n",
        "\r\n",
        "* <strong>Startified Sampling: </strong>Samples are randomly drawn from various homogeneous stratums in the overall heterogeneous population according to relative importance of these stratums in the population.<br>\r\n",
        "Considered as a true representative of population.\r\n",
        "\r\n",
        "#### <strong>Key Takeaways:</strong><br> \r\n",
        "* ####  There are various types of sampling methods and which one to use depends on the task at hand.\r\n",
        "* ####  For a completely homogeneous population, a random sample is generally known to work well.\r\n",
        "\r\n",
        "Next we will have a look at ways to generate random samples in python.\r\n"
      ]
    },
    {
      "cell_type": "code",
      "metadata": {
        "id": "QMZqHxsBa3nb"
      },
      "source": [
        "#Imports\r\n",
        "import pandas as pd\r\n",
        "from sklearn.datasets import load_iris\r\n",
        "import random\r\n",
        "import seaborn as sns\r\n",
        "import numpy as np\r\n",
        "import matplotlib.pyplot as plt\r\n",
        "import warnings\r\n",
        "warnings.filterwarnings(\"ignore\")"
      ],
      "execution_count": null,
      "outputs": []
    },
    {
      "cell_type": "code",
      "metadata": {
        "colab": {
          "base_uri": "https://localhost:8080/",
          "height": 376
        },
        "id": "QWKyD3CbeQwp",
        "outputId": "e052c244-752b-4082-e4c6-f2f64110f7cc"
      },
      "source": [
        "#Reading Data\r\n",
        "#The data is count (english count) of cotton yarn produced by a spinning mill\r\n",
        "cotton_count = pd.read_csv('./cotton_count.csv')\r\n",
        "print(\"Shape of data : \",cotton_count.shape)\r\n",
        "cotton_count.head(10)"
      ],
      "execution_count": null,
      "outputs": [
        {
          "output_type": "stream",
          "text": [
            "Shape of data :  (10000, 1)\n"
          ],
          "name": "stdout"
        },
        {
          "output_type": "execute_result",
          "data": {
            "text/html": [
              "<div>\n",
              "<style scoped>\n",
              "    .dataframe tbody tr th:only-of-type {\n",
              "        vertical-align: middle;\n",
              "    }\n",
              "\n",
              "    .dataframe tbody tr th {\n",
              "        vertical-align: top;\n",
              "    }\n",
              "\n",
              "    .dataframe thead th {\n",
              "        text-align: right;\n",
              "    }\n",
              "</style>\n",
              "<table border=\"1\" class=\"dataframe\">\n",
              "  <thead>\n",
              "    <tr style=\"text-align: right;\">\n",
              "      <th></th>\n",
              "      <th>col1</th>\n",
              "    </tr>\n",
              "  </thead>\n",
              "  <tbody>\n",
              "    <tr>\n",
              "      <th>0</th>\n",
              "      <td>21.17</td>\n",
              "    </tr>\n",
              "    <tr>\n",
              "      <th>1</th>\n",
              "      <td>22.13</td>\n",
              "    </tr>\n",
              "    <tr>\n",
              "      <th>2</th>\n",
              "      <td>28.36</td>\n",
              "    </tr>\n",
              "    <tr>\n",
              "      <th>3</th>\n",
              "      <td>27.93</td>\n",
              "    </tr>\n",
              "    <tr>\n",
              "      <th>4</th>\n",
              "      <td>28.47</td>\n",
              "    </tr>\n",
              "    <tr>\n",
              "      <th>5</th>\n",
              "      <td>26.96</td>\n",
              "    </tr>\n",
              "    <tr>\n",
              "      <th>6</th>\n",
              "      <td>26.25</td>\n",
              "    </tr>\n",
              "    <tr>\n",
              "      <th>7</th>\n",
              "      <td>23.11</td>\n",
              "    </tr>\n",
              "    <tr>\n",
              "      <th>8</th>\n",
              "      <td>29.23</td>\n",
              "    </tr>\n",
              "    <tr>\n",
              "      <th>9</th>\n",
              "      <td>26.05</td>\n",
              "    </tr>\n",
              "  </tbody>\n",
              "</table>\n",
              "</div>"
            ],
            "text/plain": [
              "    col1\n",
              "0  21.17\n",
              "1  22.13\n",
              "2  28.36\n",
              "3  27.93\n",
              "4  28.47\n",
              "5  26.96\n",
              "6  26.25\n",
              "7  23.11\n",
              "8  29.23\n",
              "9  26.05"
            ]
          },
          "metadata": {
            "tags": []
          },
          "execution_count": 24
        }
      ]
    },
    {
      "cell_type": "markdown",
      "metadata": {
        "id": "XDoklEYEgoKq"
      },
      "source": [
        "#### Since the data size is large (10,000 values), so we can randomly sample from this data\r\n",
        "\r\n",
        "##### Use <i>numpy.random.choice(a, size=None, replace=True, p=None)</i> <br> or <br> <i>random.sample(population, k, *, counts=None)</i>"
      ]
    },
    {
      "cell_type": "code",
      "metadata": {
        "colab": {
          "base_uri": "https://localhost:8080/"
        },
        "id": "-lQ2pEszgn0g",
        "outputId": "e5435b7c-8534-41fe-a364-9075f8d4bc94"
      },
      "source": [
        "sample_size = 50\r\n",
        "replacement = False\r\n",
        "sample = np.random.choice(cotton_count.iloc[:,0],sample_size,replacement)\r\n",
        "print(\"Generated sample of size \",sample_size,\" : \",sample)"
      ],
      "execution_count": null,
      "outputs": [
        {
          "output_type": "stream",
          "text": [
            "Generated sample of size  50  :  [27.77 24.33 28.06 21.63 29.11 21.06 29.02 22.65 21.05 22.37 21.69 23.12\n",
            " 28.05 27.74 21.83 20.74 26.82 29.6  27.24 26.98 28.49 30.04 27.43 24.27\n",
            " 23.16 26.31 29.86 29.61 21.98 22.33 24.29 29.05 21.14 27.44 25.31 28.2\n",
            " 28.71 28.49 21.54 25.15 22.81 24.2  25.44 28.82 21.11 22.48 24.53 22.74\n",
            " 21.71 26.74]\n"
          ],
          "name": "stdout"
        }
      ]
    },
    {
      "cell_type": "code",
      "metadata": {
        "colab": {
          "base_uri": "https://localhost:8080/"
        },
        "id": "NeGBGmEKHzjK",
        "outputId": "6c6b6cae-c04c-47c9-f4be-12c82acc6dc7"
      },
      "source": [
        "random.sample(list(cotton_count.iloc[:,0]),20)"
      ],
      "execution_count": null,
      "outputs": [
        {
          "output_type": "execute_result",
          "data": {
            "text/plain": [
              "[20.240000000000038,\n",
              " 28.400000000001317,\n",
              " 29.390000000001468,\n",
              " 22.670000000000414,\n",
              " 21.580000000000247,\n",
              " 26.71000000000105,\n",
              " 24.54000000000071,\n",
              " 25.840000000000916,\n",
              " 23.620000000000573,\n",
              " 26.210000000000967,\n",
              " 28.050000000001262,\n",
              " 28.750000000001375,\n",
              " 29.6000000000015,\n",
              " 24.55000000000071,\n",
              " 25.38000000000084,\n",
              " 25.030000000000786,\n",
              " 24.890000000000768,\n",
              " 20.720000000000116,\n",
              " 24.460000000000697,\n",
              " 25.630000000000877]"
            ]
          },
          "metadata": {
            "tags": []
          },
          "execution_count": 43
        }
      ]
    },
    {
      "cell_type": "code",
      "metadata": {
        "id": "B0-Ib9vBpLMh"
      },
      "source": [
        ""
      ],
      "execution_count": null,
      "outputs": []
    },
    {
      "cell_type": "markdown",
      "metadata": {
        "id": "xZu-wOdzpHc5"
      },
      "source": [
        "## Central Limit Theorem\r\n",
        "* <strong>Sampling Distribution :</strong> Frequency distribution of a sample statistic over many samples of a fixed size.\r\n",
        "#### This theorem states that <strong><i>the sampling distribution of the sample means approaches a normal distribution as the sample size gets larger</i></strong> or <strong><i>as the sample size tends to infinity, the shape of the distribution resembles a bell shape (normal distribution)</i></strong>\r\n",
        "\r\n",
        "<center>\r\n",
        "<img src=\"https://drive.google.com/uc?id=1xMODtBGTyp1DJZ-rpwGqZ4FMTnmmpEyP\" height=\"300\" width=\"750\">\r\n",
        "</center>\r\n",
        "\r\n",
        "### Why is it useful?\r\n",
        "It allows us to use well developed statistical inference procedures that are based on a normal distribution such as 68-95-99.7 rule and many others, even if we are sampling from a population that is not normal, provided we have a large sample size.\r\n",
        "\r\n",
        "#### <strong>Key Takeaways:</strong><br> \r\n",
        "* ####  For large sample sizes, any distribution can be approximated closely by normal distribution and <strong>Normal Test of Significance can be used for large samples</strong>.\r\n",
        "* ####  As a general rule of thumb, a sample size of <strong>greater that 30 (>=30)</strong> can be considered a large sample.\r\n"
      ]
    },
    {
      "cell_type": "markdown",
      "metadata": {
        "id": "fogG-oVRto8I"
      },
      "source": [
        "### Let's have a look at visualization of this theorem using python code.\r\n",
        "##### For this purpose, we will randomly generate samples of numbers from "
      ]
    },
    {
      "cell_type": "code",
      "metadata": {
        "id": "d77cI2j-bLvW"
      },
      "source": [
        "num_samples = [1,20,40,80,100,200,1000,10000]\r\n",
        "\r\n",
        "def simulate_1000_die_rolls(sample_size):\r\n",
        "  \"\"\"\r\n",
        "  Function to create simulated dice rolls having given number of rolls\r\n",
        "\r\n",
        "  Parameters:\r\n",
        "  sample_size: The number of dice rolls to simulate\r\n",
        "\r\n",
        "  Return:\r\n",
        "  A list of mean values of 1000 rolls of given number of dice\r\n",
        "  \"\"\"\r\n",
        "  expected_values = []\r\n",
        "  for i in range(1000):\r\n",
        "    expected_values.append(np.average(np.random.randint(1,7,sample_size)))\r\n",
        "  return expected_values"
      ],
      "execution_count": null,
      "outputs": []
    },
    {
      "cell_type": "code",
      "metadata": {
        "id": "GFegEZVJvYoG"
      },
      "source": [
        "sample_means = []\r\n",
        "for sample_size in num_samples:\r\n",
        "  sample_means.append(simulate_1000_die_rolls(sample_size))"
      ],
      "execution_count": null,
      "outputs": []
    },
    {
      "cell_type": "code",
      "metadata": {
        "colab": {
          "base_uri": "https://localhost:8080/",
          "height": 936
        },
        "id": "5sxqwHTjvoWQ",
        "outputId": "745a696a-f840-4067-dd89-b4c1b11484fc"
      },
      "source": [
        "k = 0\r\n",
        "  \r\n",
        "# plotting all in one figure \r\n",
        "fig, ax = plt.subplots(4, 2, figsize =(8, 16)) \r\n",
        "for i in range(0, 4): \r\n",
        "    for j in range(0, 2): \r\n",
        "        # Histogram for sampling distribution of each sample size \r\n",
        "        ax[i, j].hist(sample_means[k], 10, density = True) \r\n",
        "        ax[i, j].set_title(label = \"Sample size : \"+str(num_samples[k]),fontsize=15) \r\n",
        "        k = k + 1\r\n",
        "plt.show()"
      ],
      "execution_count": null,
      "outputs": [
        {
          "output_type": "display_data",
          "data": {
            "image/png": "[encoded data removed]",
            "text/plain": [
              "<Figure size 576x1152 with 8 Axes>"
            ]
          },
          "metadata": {
            "tags": []
          }
        }
      ]
    },
    {
      "cell_type": "markdown",
      "metadata": {
        "id": "UmU3thN8zRHW"
      },
      "source": [
        "#### Observations\r\n",
        "1. With a smaller number of samples, the histogram is scattered all over and does not have a definite pattern.\r\n",
        "2. With increase in the sample size, the sampling distribution starts to resemble a normal distribution. This is the Central Limit Theorem.\r\n",
        "3. <strong>With increase in sample size, the range of sample means(x-axis of the plot) starts to shrink more and more towards the value 3.5</strong>"
      ]
    },
    {
      "cell_type": "code",
      "metadata": {
        "id": "u6IyZlxepNHt"
      },
      "source": [
        ""
      ],
      "execution_count": null,
      "outputs": []
    },
    {
      "cell_type": "markdown",
      "metadata": {
        "id": "a9HCwJtT0xIQ"
      },
      "source": [
        "## Law of Large Numbers\r\n",
        "The Central Limit theorem is closely related to the Law of Large Numbers, which states that <strong><i>as a sample size grows, the sample mean gets closer to the population mean.</i></strong>\r\n",
        "\r\n",
        "##### <strong>Expected Value (mean): </strong>It is the average result of an experiment after a large number of trials.\r\n",
        "\r\n",
        "### Expected Value of a fair die roll\r\n",
        "<center>\r\n",
        "<img src=\"https://drive.google.com/uc?id=1aUc0iqtELbgOCcSEUM-5aWUZOe8Sbg82\" height=\"150\" width=\"600\">\r\n",
        "</center>\r\n",
        "\r\n",
        "### How are these 2 related\r\n",
        "Central limit Theorem states that as the sample size tends to infinity, the shape of the distribution resembles a bell shape (normal distribution). The center of this distribution of the sample means becomes very close to the population mean which is essentially the law of large numbers.\r\n",
        "\r\n"
      ]
    },
    {
      "cell_type": "markdown",
      "metadata": {
        "id": "ZbX66vUN1T0f"
      },
      "source": [
        "### Visualization of Law of Large Numbers using simulated die rolls"
      ]
    },
    {
      "cell_type": "code",
      "metadata": {
        "id": "iiv_RearzQiI"
      },
      "source": [
        "def simulate_die_rolls(num_rolls):\r\n",
        "  \"\"\"\r\n",
        "  Function to create simulated dice rolls having given number of rolls\r\n",
        "\r\n",
        "  Parameters:\r\n",
        "  num_rolls: The number of dice rolls to simulate\r\n",
        "\r\n",
        "  Return:\r\n",
        "  Mean of given number of dice rolls\r\n",
        "  \"\"\"\r\n",
        "  return np.average(np.random.randint(1,7,num_rolls))"
      ],
      "execution_count": null,
      "outputs": []
    },
    {
      "cell_type": "code",
      "metadata": {
        "colab": {
          "base_uri": "https://localhost:8080/"
        },
        "id": "O3ywvdS8yUNO",
        "outputId": "e0fc5c7f-c37d-41ee-ebbb-b18cec20871f"
      },
      "source": [
        "sample_sizes = [1,10,30,100,200,500,1000,4000,8000,10000,15000,35000,50000]\r\n",
        "sample_means = []\r\n",
        "for size in sample_sizes:\r\n",
        "  mean = np.round(simulate_die_rolls(size),3)\r\n",
        "  sample_means.append(mean)\r\n",
        "  print(\"The average value of \"+str(size)+\" number of dice rolls is : \",mean)"
      ],
      "execution_count": null,
      "outputs": [
        {
          "output_type": "stream",
          "text": [
            "The average value of 1 number of dice rolls is :  3.0\n",
            "The average value of 10 number of dice rolls is :  4.0\n",
            "The average value of 30 number of dice rolls is :  3.167\n",
            "The average value of 100 number of dice rolls is :  3.56\n",
            "The average value of 200 number of dice rolls is :  3.45\n",
            "The average value of 500 number of dice rolls is :  3.47\n",
            "The average value of 1000 number of dice rolls is :  3.573\n",
            "The average value of 4000 number of dice rolls is :  3.513\n",
            "The average value of 8000 number of dice rolls is :  3.496\n",
            "The average value of 10000 number of dice rolls is :  3.528\n",
            "The average value of 15000 number of dice rolls is :  3.508\n",
            "The average value of 35000 number of dice rolls is :  3.479\n",
            "The average value of 50000 number of dice rolls is :  3.504\n"
          ],
          "name": "stdout"
        }
      ]
    },
    {
      "cell_type": "code",
      "metadata": {
        "colab": {
          "base_uri": "https://localhost:8080/",
          "height": 267
        },
        "id": "eb9Ny6pP3hmm",
        "outputId": "730a90d8-7a8b-48da-9fc5-dc4c4070fd7c"
      },
      "source": [
        "plt.plot(sample_means,label=\"Expected value of die rolls\",linewidth=3)\r\n",
        "plt.plot([3.5 for i in range(len(sample_means))],label=\"Theoretical expected value of 3.5\",linewidth=3)\r\n",
        "plt.legend()\r\n",
        "plt.xticks([])\r\n",
        "plt.ylabel(\"Expected Values\",fontsize=15)\r\n",
        "plt.xlabel(\"Increasing sample size\",fontsize=15)\r\n",
        "plt.show()"
      ],
      "execution_count": null,
      "outputs": [
        {
          "output_type": "display_data",
          "data": {
            "image/png": "[encoded data removed]",
            "text/plain": [
              "<Figure size 432x288 with 1 Axes>"
            ]
          },
          "metadata": {
            "tags": []
          }
        }
      ]
    },
    {
      "cell_type": "markdown",
      "metadata": {
        "id": "LVKOSQMH545b"
      },
      "source": [
        "#### Observation\r\n",
        "* As the sample size increases, the expected value of die rolls converges towards the theoretical expected value of 3.5"
      ]
    },
    {
      "cell_type": "code",
      "metadata": {
        "id": "DEUheUrepOmy"
      },
      "source": [
        ""
      ],
      "execution_count": null,
      "outputs": []
    },
    {
      "cell_type": "markdown",
      "metadata": {
        "id": "uvwbuqQxyCqx"
      },
      "source": [
        "\r\n",
        "<center>\r\n",
        "<img src=\"https://drive.google.com/uc?export=view&id=1Nggz1m4TJ8wBvw7--xDsDEhjV9jDeUmm\"  align=\"center\"></center>"
      ]
    },
    {
      "cell_type": "markdown",
      "metadata": {
        "id": "5-E9pUOwYcLU"
      },
      "source": [
        "## Confidence Intervals\r\n",
        "* A confidence interval is a bounds on the estimate of a population variable. It is an interval statistic used to quantify the uncertainty on an estimate.\r\n",
        "\r\n",
        "### Why does it matter?\r\n",
        "* Since, in real world only sample data is available and population characteristics (eg. mean) are estimated from sample data, so exact population parameters can't be estimated and there will always be some uncertainity.\r\n",
        "* Confidence Intervals helps to quantify this uncertainity."
      ]
    },
    {
      "cell_type": "markdown",
      "metadata": {
        "id": "ENayxa5W5zc0"
      },
      "source": [
        "#### Let's try to calculate confidence intervals for population mean of cotton counts data based on a sample\r\n",
        "<strong>Note: </strong>\r\n",
        "* The formula for confidence intervals is based on normality tests or large sample tests which assumes that sample size should be large (>=30).\r\n",
        "---\r\n",
        "$$ C.I.(\\mu) = \\bar{x} \\pm z\\frac{\\sigma}{\\sqrt{n}} $$\r\n",
        "<br> $$ where $$\r\n",
        "<br> $$ \\mu = Population \\; mean $$\r\n",
        "<br> $$ \\bar{x} = Sample \\; mean $$\r\n",
        "<br> $$ \\sigma = Population \\; standard \\; deviation $$\r\n",
        "\r\n",
        "---\r\n",
        "* Some commonly used z-values for Confidence Intervals\r\n",
        "\r\n",
        "| Confidence Interval | z     | \r\n",
        "|---------------------|-------|\r\n",
        "| 90%                 | 1.645 |\r\n",
        "| 95%                 | 1.96  |\r\n",
        "| 98%                 | 2.326 |\r\n",
        "| 99%                 | 2.576 |\r\n",
        "\r\n",
        "* For smaller sample sizes, t-test statistic is to be used.\r\n",
        "\r\n"
      ]
    },
    {
      "cell_type": "code",
      "metadata": {
        "colab": {
          "base_uri": "https://localhost:8080/",
          "height": 221
        },
        "id": "Zjg1WtuJUS6I",
        "outputId": "b5db5a68-64a2-4117-df9d-1b7474581e9b"
      },
      "source": [
        "#Reading Data\r\n",
        "#The data is count (english count) of cotton yarn produced by a spinning mill\r\n",
        "cotton_count = pd.read_csv('./cotton_count.csv')\r\n",
        "print(\"Shape of data : \",cotton_count.shape)\r\n",
        "cotton_count.head(5)"
      ],
      "execution_count": null,
      "outputs": [
        {
          "output_type": "stream",
          "text": [
            "Shape of data :  (10000, 1)\n"
          ],
          "name": "stdout"
        },
        {
          "output_type": "execute_result",
          "data": {
            "text/html": [
              "<div>\n",
              "<style scoped>\n",
              "    .dataframe tbody tr th:only-of-type {\n",
              "        vertical-align: middle;\n",
              "    }\n",
              "\n",
              "    .dataframe tbody tr th {\n",
              "        vertical-align: top;\n",
              "    }\n",
              "\n",
              "    .dataframe thead th {\n",
              "        text-align: right;\n",
              "    }\n",
              "</style>\n",
              "<table border=\"1\" class=\"dataframe\">\n",
              "  <thead>\n",
              "    <tr style=\"text-align: right;\">\n",
              "      <th></th>\n",
              "      <th>col1</th>\n",
              "    </tr>\n",
              "  </thead>\n",
              "  <tbody>\n",
              "    <tr>\n",
              "      <th>0</th>\n",
              "      <td>21.17</td>\n",
              "    </tr>\n",
              "    <tr>\n",
              "      <th>1</th>\n",
              "      <td>22.13</td>\n",
              "    </tr>\n",
              "    <tr>\n",
              "      <th>2</th>\n",
              "      <td>28.36</td>\n",
              "    </tr>\n",
              "    <tr>\n",
              "      <th>3</th>\n",
              "      <td>27.93</td>\n",
              "    </tr>\n",
              "    <tr>\n",
              "      <th>4</th>\n",
              "      <td>28.47</td>\n",
              "    </tr>\n",
              "  </tbody>\n",
              "</table>\n",
              "</div>"
            ],
            "text/plain": [
              "    col1\n",
              "0  21.17\n",
              "1  22.13\n",
              "2  28.36\n",
              "3  27.93\n",
              "4  28.47"
            ]
          },
          "metadata": {
            "tags": []
          },
          "execution_count": 3
        }
      ]
    },
    {
      "cell_type": "code",
      "metadata": {
        "colab": {
          "base_uri": "https://localhost:8080/"
        },
        "id": "dm42h1xWZ9us",
        "outputId": "95d683de-85df-4838-b33f-f05cc4f20d0e"
      },
      "source": [
        "print(\"Exact population mean (available only in ideal world) : \",np.round(cotton_count.iloc[:,0].mean(),3))"
      ],
      "execution_count": null,
      "outputs": [
        {
          "output_type": "stream",
          "text": [
            "Exact population mean (available only in ideal world) :  25.092\n"
          ],
          "name": "stdout"
        }
      ]
    },
    {
      "cell_type": "code",
      "metadata": {
        "id": "0zZLOFUm7PQs"
      },
      "source": [
        "z_values ={\r\n",
        "    0.90:1.645,\r\n",
        "    0.95:1.96,\r\n",
        "    0.98:2.326,\r\n",
        "    0.99:2.576\r\n",
        "}"
      ],
      "execution_count": null,
      "outputs": []
    },
    {
      "cell_type": "code",
      "metadata": {
        "id": "MYwd3Y-lwLYg"
      },
      "source": [
        "def calc_confidence_intervals(sample,confidence_value,print_length=False):\r\n",
        "  \"\"\"\r\n",
        "  Function to calculate confidence intervals for population mean based on large sample tests\r\n",
        "\r\n",
        "  Parameters:\r\n",
        "  sample: The sample drawn from population (should be of size >=30)\r\n",
        "  confidence_value: The level of confidence (in fraction)\r\n",
        "  print_length: Prints the length of confidence interval if set to true\r\n",
        "  \"\"\"\r\n",
        "  sample_size = sample.shape[0]\r\n",
        "  xbar = np.mean(sample)\r\n",
        "  sigma = cotton_count.iloc[:,0].std()\r\n",
        "  limit = z_values[confidence_value]*(sigma/np.sqrt(sample_size))\r\n",
        "  print(\"Sample mean : \",xbar)\r\n",
        "  print(\"Confidence Intervals for population mean based on sample of size \",sample_size,\" at a confidence level of \",confidence_value*100,\"% is : (\",xbar-limit,\" , \",xbar+limit,\")\")\r\n",
        "  if(print_length):\r\n",
        "    print(\"Length of confidence interval : \",2*limit)"
      ],
      "execution_count": null,
      "outputs": []
    },
    {
      "cell_type": "code",
      "metadata": {
        "id": "bk9p1Iiu9JXg"
      },
      "source": [
        "sample_size = 100\r\n",
        "confidence_value = 0.95\r\n",
        "\r\n",
        "#Sample from the counts data\r\n",
        "sample = np.random.choice(cotton_count.iloc[:,0],sample_size)"
      ],
      "execution_count": null,
      "outputs": []
    },
    {
      "cell_type": "code",
      "metadata": {
        "colab": {
          "base_uri": "https://localhost:8080/"
        },
        "id": "T_c6JkZg-Sx1",
        "outputId": "0359f8c6-5677-465b-9ebc-62cdb5a158b2"
      },
      "source": [
        "calc_confidence_intervals(sample,confidence_value)"
      ],
      "execution_count": null,
      "outputs": [
        {
          "output_type": "stream",
          "text": [
            "Sample mean :  25.159200000000805\n",
            "Confidence Intervals for population mean based on sample of size  100  at a confidence level of  95.0 % is : ( 24.588656267612635  ,  25.729743732388975 )\n"
          ],
          "name": "stdout"
        }
      ]
    },
    {
      "cell_type": "markdown",
      "metadata": {
        "id": "Dl08KfPs9sPe"
      },
      "source": [
        "#### These can also be calculated using the scipy package"
      ]
    },
    {
      "cell_type": "code",
      "metadata": {
        "colab": {
          "base_uri": "https://localhost:8080/"
        },
        "id": "VmsvIJ0V9Uil",
        "outputId": "8c6fee05-6b57-4025-f36e-2235d1754f81"
      },
      "source": [
        "import scipy.stats as st\r\n",
        "st.t.interval(confidence_value, len(sample)-1, loc=np.mean(sample), scale=st.sem(sample))"
      ],
      "execution_count": null,
      "outputs": [
        {
          "output_type": "execute_result",
          "data": {
            "text/plain": [
              "(24.596889715481776, 25.721510284519834)"
            ]
          },
          "metadata": {
            "tags": []
          },
          "execution_count": 40
        }
      ]
    },
    {
      "cell_type": "markdown",
      "metadata": {
        "id": "i3TNsaO5_Thu"
      },
      "source": [
        "# What does confidence interval actually tells us?\r\n",
        "---\r\n",
        "$$P(\\bar{x} - 1.96 \\frac{\\sigma}{\\sqrt{n}} < \\mu < \\bar{x} + 1.96 \\frac{\\sigma}{\\sqrt{n}}) = 0.95 $$\r\n",
        "\r\n",
        "---\r\n",
        "\r\n",
        "* There is a 95% chance that the population mean will lie in the confidence interval estimated from the sample at 95% confidence level.\r\n",
        "* Larger the confidence interval implies greater uncertainity in estimation."
      ]
    },
    {
      "cell_type": "markdown",
      "metadata": {
        "id": "lPqISUo8_50a"
      },
      "source": [
        "## Effect of Sample Size\r\n",
        "$$ C.I.(\\mu) = \\bar{x} \\pm z\\frac{\\sigma}{\\sqrt{n}} $$\r\n",
        "\r\n",
        "* With increase in sample size, sample mean will get more and more closer to the population mean and hence results in more tighter and compact confidence intervals <strong>(more certain estimate of population)</strong>"
      ]
    },
    {
      "cell_type": "code",
      "metadata": {
        "colab": {
          "base_uri": "https://localhost:8080/"
        },
        "id": "I1HCYpjA9974",
        "outputId": "a3d7fcb5-53dd-4b47-a14f-22c4efd1f6c9"
      },
      "source": [
        "#Confidence Intervals at sample of size 100\r\n",
        "sample = np.random.choice(cotton_count.iloc[:,0],100)\r\n",
        "calc_confidence_intervals(sample,0.95,True)"
      ],
      "execution_count": null,
      "outputs": [
        {
          "output_type": "stream",
          "text": [
            "Sample mean :  25.010000000000783\n",
            "Confidence Intervals for population mean based on sample of size  100  at a confidence level of  95.0 % is : ( 24.439456267612613  ,  25.580543732388954 )\n",
            "Length of confidence interval :  1.1410874647763405\n"
          ],
          "name": "stdout"
        }
      ]
    },
    {
      "cell_type": "code",
      "metadata": {
        "colab": {
          "base_uri": "https://localhost:8080/"
        },
        "id": "oyva0ENfArKC",
        "outputId": "790d1e40-f2f8-4f83-ef7e-3fbd0360f36f"
      },
      "source": [
        "#Confidence Intervals at sample of size 5000\r\n",
        "sample = np.random.choice(cotton_count.iloc[:,0],5000)\r\n",
        "calc_confidence_intervals(sample,0.95,True)"
      ],
      "execution_count": null,
      "outputs": [
        {
          "output_type": "stream",
          "text": [
            "Sample mean :  25.198200000000814\n",
            "Confidence Intervals for population mean based on sample of size  5000  at a confidence level of  95.0 % is : ( 25.11751293157378  ,  25.278887068427846 )\n",
            "Length of confidence interval :  0.1613741368540632\n"
          ],
          "name": "stdout"
        }
      ]
    },
    {
      "cell_type": "markdown",
      "metadata": {
        "id": "aZSgTRQcCn2A"
      },
      "source": [
        "#### Observation\r\n",
        "* The length of confidence interval <i>(upper bound - lower bound)</i> is much smaller in case of sample size of 5000, indicating a better and more confident estimate of population mean."
      ]
    },
    {
      "cell_type": "markdown",
      "metadata": {
        "id": "GVO1APFTDIo9"
      },
      "source": [
        "## Effect of Confidence Level\r\n",
        "$$ C.I.(\\mu) = \\bar{x} \\pm z\\frac{\\sigma}{\\sqrt{n}} $$\r\n",
        "\r\n",
        "* With increase in confidence level, confidence intervals will expand so as to increase the chances of population mean falling in the interval <strong>(more certain estimate of population)</strong>"
      ]
    },
    {
      "cell_type": "code",
      "metadata": {
        "colab": {
          "base_uri": "https://localhost:8080/"
        },
        "id": "5Gqdu_gZAuJ9",
        "outputId": "799cad11-0340-4c24-82f9-d076592edd5b"
      },
      "source": [
        "#Confidence Intervals at sample of size 100 at level of 90%\r\n",
        "sample = np.random.choice(cotton_count.iloc[:,0],100)\r\n",
        "calc_confidence_intervals(sample,0.90,True)"
      ],
      "execution_count": null,
      "outputs": [
        {
          "output_type": "stream",
          "text": [
            "Sample mean :  25.193400000000814\n",
            "Confidence Intervals for population mean based on sample of size  100  at a confidence level of  90.0 % is : ( 24.71455079603217  ,  25.672249203969457 )\n",
            "Length of confidence interval :  0.9576984079372858\n"
          ],
          "name": "stdout"
        }
      ]
    },
    {
      "cell_type": "code",
      "metadata": {
        "colab": {
          "base_uri": "https://localhost:8080/"
        },
        "id": "PQiirV99Do9U",
        "outputId": "3c075e37-d6a4-4829-fdf9-7233283ab3e3"
      },
      "source": [
        "#Confidence Intervals at sample of size 100 at level of 99%\r\n",
        "sample = np.random.choice(cotton_count.iloc[:,0],100)\r\n",
        "calc_confidence_intervals(sample,0.99,True)"
      ],
      "execution_count": null,
      "outputs": [
        {
          "output_type": "stream",
          "text": [
            "Sample mean :  24.961800000000782\n",
            "Confidence Intervals for population mean based on sample of size  100  at a confidence level of  99.0 % is : ( 24.21194252314776  ,  25.711657476853805 )\n",
            "Length of confidence interval :  1.4997149537060475\n"
          ],
          "name": "stdout"
        }
      ]
    },
    {
      "cell_type": "markdown",
      "metadata": {
        "id": "orXRk59iEZGV"
      },
      "source": [
        "#### Observation\r\n",
        "* The length of confidence interval <i>(upper bound - lower bound)</i> is much larger in case of higher confidence level, so as ascertain that population mean will lie in the confidence interval produced."
      ]
    },
    {
      "cell_type": "code",
      "metadata": {
        "id": "FZgGO6ADpRUW"
      },
      "source": [
        ""
      ],
      "execution_count": null,
      "outputs": []
    },
    {
      "cell_type": "markdown",
      "metadata": {
        "id": "o5KF58rIFq_L"
      },
      "source": [
        "# Standard Error\r\n",
        "* The standard deviation of the sampling distribution of a statistic is its Standard Error.\r\n",
        "* The standard error of sample mean (xbar) is given by\r\n",
        "\r\n",
        "---\r\n",
        "$$ S.E.(\\bar{x}) = \\frac{\\sigma}{\\sqrt{n}} $$\r\n",
        "<br> $$ where $$ \r\n",
        "<br> $$ \\bar{x} = Sample \\; mean $$\r\n",
        "<br> $$ \\sigma = Population \\; standard \\; deviation $$\r\n",
        "<br> $$ n = Sample \\; size $$\r\n",
        "<br>\r\n",
        "\r\n",
        "---\r\n",
        "\r\n",
        "### Why care about Standard Error?\r\n",
        "* Forms the basis of theory of testing.\r\n",
        "* If the discrepancy betweenn the observed and the expected value of a statistic is greater than Z times its S.E, then deviation observed can be attributed to flucatuations in sampling.\r\n",
        "\r\n",
        "---\r\n",
        "$$ if \\quad |\\bar{x}-\\mu| <= z * S.E.(\\bar{x}) $$\r\n",
        "<br> $$ then \\; considered \\; 'not \\; significant' \\; and \\; attributed \\; to \\; sampling \\; fluctuations.$$\r\n",
        "<br>\r\n",
        "\r\n",
        "---\r\n",
        "* Magnitude of standard error gives an index of precision of estimate.\r\n",
        "\r\n",
        "---\r\n",
        "$$Measure \\; of \\; reliability = \\frac{1}{S.E.({\\bar{x}})} = \\frac{\\sqrt{n}}{\\sigma}$$\r\n",
        "<br>\r\n",
        "\r\n",
        "---\r\n",
        "* Enables to determine the confidential limits\r\n",
        "\r\n",
        "---\r\n",
        "$$C.I.(\\mu) = \\bar{x} \\pm z*S.E.(\\bar{x})$$\r\n",
        "<br> $$ where $$\r\n",
        "$$ S.E.(\\bar{x}) = \\frac{\\sigma}{\\sqrt{n}} $$\r\n",
        "<br>\r\n",
        "\r\n",
        "---\r\n",
        "* Helps to determine the right sample size.For mean, in order to double the precision (reducing standard error to half), sample size has to be increased 4 times"
      ]
    },
    {
      "cell_type": "markdown",
      "metadata": {
        "id": "9pqNvs-kglHg"
      },
      "source": [
        "#### Standard Error and effect of sample size on cotton count data"
      ]
    },
    {
      "cell_type": "code",
      "metadata": {
        "id": "3O0SwDoQDrTH"
      },
      "source": [
        "def calculate_std_error(sample_size):\r\n",
        "  \"\"\"\r\n",
        "  Function to calculate standard error and precision for a sample\r\n",
        "\r\n",
        "  Parameters:\r\n",
        "  sample_size: Size of sample to consider\r\n",
        "  \"\"\"\r\n",
        "  sigma = cotton_count.iloc[:,0].std()\r\n",
        "  standard_error = sigma/np.sqrt(sample_size)\r\n",
        "  print(\"Sample size : \",sample_size,\" Standard Error : \",np.round(standard_error,3),\" Reliability : \",np.round(1/standard_error,3))"
      ],
      "execution_count": null,
      "outputs": []
    },
    {
      "cell_type": "code",
      "metadata": {
        "colab": {
          "base_uri": "https://localhost:8080/"
        },
        "id": "7PeTche3hzGJ",
        "outputId": "8ba0a4a4-acc9-4e4f-d827-ced8919110a9"
      },
      "source": [
        "sample_size = 100\r\n",
        "sample = np.random.choice(cotton_count.iloc[:,0],sample_size)\r\n",
        "calc_confidence_intervals(sample,0.95,True)\r\n",
        "calculate_std_error(sample_size)"
      ],
      "execution_count": null,
      "outputs": [
        {
          "output_type": "stream",
          "text": [
            "Sample mean :  25.533100000000864\n",
            "Confidence Intervals for population mean based on sample of size  100  at a confidence level of  95.0 % is : ( 24.962556267612694  ,  26.103643732389035 )\n",
            "Length of confidence interval :  1.1410874647763405\n",
            "Sample size :  100  Standard Error :  0.291  Reliability :  3.435\n"
          ],
          "name": "stdout"
        }
      ]
    },
    {
      "cell_type": "code",
      "metadata": {
        "colab": {
          "base_uri": "https://localhost:8080/"
        },
        "id": "MRPWSIKGiAVd",
        "outputId": "bbe1be1e-76ea-48a1-f98a-1a6a69a01310"
      },
      "source": [
        "sample_size = 400\r\n",
        "sample = np.random.choice(cotton_count.iloc[:,0],sample_size)\r\n",
        "calc_confidence_intervals(sample,0.95,True)\r\n",
        "calculate_std_error(sample_size)"
      ],
      "execution_count": null,
      "outputs": [
        {
          "output_type": "stream",
          "text": [
            "Sample mean :  25.059200000000793\n",
            "Confidence Intervals for population mean based on sample of size  400  at a confidence level of  95.0 % is : ( 24.77392813380671  ,  25.344471866194876 )\n",
            "Length of confidence interval :  0.5705437323881702\n",
            "Sample size :  400  Standard Error :  0.146  Reliability :  6.871\n"
          ],
          "name": "stdout"
        }
      ]
    },
    {
      "cell_type": "markdown",
      "metadata": {
        "id": "MvPqCiHPi6XX"
      },
      "source": [
        "#### Observation\r\n",
        "* On increasing sample size by 4 times, standard error gets halved, reliability gets doubled and confidence interval shrinks to half and a more compact interval leads to a better and more certain estimate."
      ]
    },
    {
      "cell_type": "code",
      "metadata": {
        "id": "BciE33AApTPM"
      },
      "source": [
        ""
      ],
      "execution_count": null,
      "outputs": []
    },
    {
      "cell_type": "markdown",
      "metadata": {
        "id": "WHZcxlGSodad"
      },
      "source": [
        "# The Bootstrap Method\r\n",
        "* Bootstrapping is also a method to draw inferences about population.\r\n",
        "\r\n",
        "#### How it is different from traditional method above?\r\n",
        "* Bootstrap method does not need to know about type of sampling distribution and instead it creates its own sampling distribution.\r\n",
        "\r\n",
        "* <strong>In a nutshell, bootstrap method can be used even if the test statistic does not follows normal distribution.</strong>\r\n",
        "\r\n",
        "#### How does it works?\r\n",
        "* Bootstrapping method takes the data under study and create thousands of simulated samples from it, by resampling the orignal dataset with replacement and thus create a sampling distribution of its own and uses this as the foundation for confidence intervals and testing."
      ]
    },
    {
      "cell_type": "markdown",
      "metadata": {
        "id": "TSyxJDxZq3AU"
      },
      "source": [
        "### Implementation of Bootstrap method to estimate confidence intervals for a Decision tree classifier\r\n",
        "* For this purpose, we will use Hearts disease dataset.\r\n",
        "* More info about dataset can be found <a href=\"https://archive.ics.uci.edu/ml/datasets/heart+disease\">here.</a>"
      ]
    },
    {
      "cell_type": "code",
      "metadata": {
        "id": "gAW3vzv5woe1"
      },
      "source": [
        "from pandas import read_csv\r\n",
        "from sklearn.utils import resample\r\n",
        "from sklearn.tree import DecisionTreeClassifier\r\n",
        "from sklearn.metrics import accuracy_score"
      ],
      "execution_count": null,
      "outputs": []
    },
    {
      "cell_type": "code",
      "metadata": {
        "colab": {
          "base_uri": "https://localhost:8080/",
          "height": 204
        },
        "id": "k3yCy0i3isWV",
        "outputId": "bcfdb008-f1ea-4648-b8ee-ef615063f661"
      },
      "source": [
        "#Load data\r\n",
        "heart_data = pd.read_csv(\"./heart.csv\")\r\n",
        "heart_data.head(5)"
      ],
      "execution_count": null,
      "outputs": [
        {
          "output_type": "execute_result",
          "data": {
            "text/html": [
              "<div>\n",
              "<style scoped>\n",
              "    .dataframe tbody tr th:only-of-type {\n",
              "        vertical-align: middle;\n",
              "    }\n",
              "\n",
              "    .dataframe tbody tr th {\n",
              "        vertical-align: top;\n",
              "    }\n",
              "\n",
              "    .dataframe thead th {\n",
              "        text-align: right;\n",
              "    }\n",
              "</style>\n",
              "<table border=\"1\" class=\"dataframe\">\n",
              "  <thead>\n",
              "    <tr style=\"text-align: right;\">\n",
              "      <th></th>\n",
              "      <th>age</th>\n",
              "      <th>sex</th>\n",
              "      <th>cp</th>\n",
              "      <th>trestbps</th>\n",
              "      <th>chol</th>\n",
              "      <th>fbs</th>\n",
              "      <th>restecg</th>\n",
              "      <th>thalach</th>\n",
              "      <th>exang</th>\n",
              "      <th>oldpeak</th>\n",
              "      <th>slope</th>\n",
              "      <th>ca</th>\n",
              "      <th>thal</th>\n",
              "      <th>target</th>\n",
              "    </tr>\n",
              "  </thead>\n",
              "  <tbody>\n",
              "    <tr>\n",
              "      <th>0</th>\n",
              "      <td>63</td>\n",
              "      <td>1</td>\n",
              "      <td>3</td>\n",
              "      <td>145</td>\n",
              "      <td>233</td>\n",
              "      <td>1</td>\n",
              "      <td>0</td>\n",
              "      <td>150</td>\n",
              "      <td>0</td>\n",
              "      <td>2.3</td>\n",
              "      <td>0</td>\n",
              "      <td>0</td>\n",
              "      <td>1</td>\n",
              "      <td>1</td>\n",
              "    </tr>\n",
              "    <tr>\n",
              "      <th>1</th>\n",
              "      <td>37</td>\n",
              "      <td>1</td>\n",
              "      <td>2</td>\n",
              "      <td>130</td>\n",
              "      <td>250</td>\n",
              "      <td>0</td>\n",
              "      <td>1</td>\n",
              "      <td>187</td>\n",
              "      <td>0</td>\n",
              "      <td>3.5</td>\n",
              "      <td>0</td>\n",
              "      <td>0</td>\n",
              "      <td>2</td>\n",
              "      <td>1</td>\n",
              "    </tr>\n",
              "    <tr>\n",
              "      <th>2</th>\n",
              "      <td>41</td>\n",
              "      <td>0</td>\n",
              "      <td>1</td>\n",
              "      <td>130</td>\n",
              "      <td>204</td>\n",
              "      <td>0</td>\n",
              "      <td>0</td>\n",
              "      <td>172</td>\n",
              "      <td>0</td>\n",
              "      <td>1.4</td>\n",
              "      <td>2</td>\n",
              "      <td>0</td>\n",
              "      <td>2</td>\n",
              "      <td>1</td>\n",
              "    </tr>\n",
              "    <tr>\n",
              "      <th>3</th>\n",
              "      <td>56</td>\n",
              "      <td>1</td>\n",
              "      <td>1</td>\n",
              "      <td>120</td>\n",
              "      <td>236</td>\n",
              "      <td>0</td>\n",
              "      <td>1</td>\n",
              "      <td>178</td>\n",
              "      <td>0</td>\n",
              "      <td>0.8</td>\n",
              "      <td>2</td>\n",
              "      <td>0</td>\n",
              "      <td>2</td>\n",
              "      <td>1</td>\n",
              "    </tr>\n",
              "    <tr>\n",
              "      <th>4</th>\n",
              "      <td>57</td>\n",
              "      <td>0</td>\n",
              "      <td>0</td>\n",
              "      <td>120</td>\n",
              "      <td>354</td>\n",
              "      <td>0</td>\n",
              "      <td>1</td>\n",
              "      <td>163</td>\n",
              "      <td>1</td>\n",
              "      <td>0.6</td>\n",
              "      <td>2</td>\n",
              "      <td>0</td>\n",
              "      <td>2</td>\n",
              "      <td>1</td>\n",
              "    </tr>\n",
              "  </tbody>\n",
              "</table>\n",
              "</div>"
            ],
            "text/plain": [
              "   age  sex  cp  trestbps  chol  fbs  ...  exang  oldpeak  slope  ca  thal  target\n",
              "0   63    1   3       145   233    1  ...      0      2.3      0   0     1       1\n",
              "1   37    1   2       130   250    0  ...      0      3.5      0   0     2       1\n",
              "2   41    0   1       130   204    0  ...      0      1.4      2   0     2       1\n",
              "3   56    1   1       120   236    0  ...      0      0.8      2   0     2       1\n",
              "4   57    0   0       120   354    0  ...      1      0.6      2   0     2       1\n",
              "\n",
              "[5 rows x 14 columns]"
            ]
          },
          "metadata": {
            "tags": []
          },
          "execution_count": 73
        }
      ]
    },
    {
      "cell_type": "code",
      "metadata": {
        "id": "7R4Ss83EsOm8"
      },
      "source": [
        "#Randomly shuffling data\r\n",
        "data = heart_data.values\r\n",
        "np.random.shuffle(data)"
      ],
      "execution_count": null,
      "outputs": []
    },
    {
      "cell_type": "code",
      "metadata": {
        "id": "1mpnlRblsaKU"
      },
      "source": [
        "#Configure Bootstrap\r\n",
        "num_iterations = 1000\r\n",
        "sample_size = int(0.7*data.shape[0])"
      ],
      "execution_count": null,
      "outputs": []
    },
    {
      "cell_type": "code",
      "metadata": {
        "colab": {
          "base_uri": "https://localhost:8080/",
          "height": 287
        },
        "id": "QB2QE0Bds6gE",
        "outputId": "a22354e0-61aa-43b8-cf82-495a13f58892"
      },
      "source": [
        "#Bootstrap Method\r\n",
        "accuracy_scores = []\r\n",
        "for i in range(num_iterations):\r\n",
        "  # Sample a training set of chosen size (with replacement)\r\n",
        "  train_set = resample(data,n_samples=sample_size)  \r\n",
        "\r\n",
        "  # Create a test set with all the other rows that are not part of train set\r\n",
        "  test_set = np.array([x for x in data if x.tolist() not in train_set.tolist()])\r\n",
        "\r\n",
        "  # Fitting Decision Tree Classifier on training set\r\n",
        "  classifier = DecisionTreeClassifier()\r\n",
        "  classifier.fit(train_set[:,:-1],train_set[:,-1])\r\n",
        "\r\n",
        "  # Evaluating model\r\n",
        "  predictions = classifier.predict(test_set[:,:-1])\r\n",
        "  accuracy_scores.append(accuracy_score(test_set[:,-1],predictions))\r\n",
        "\r\n",
        "# Plot a histogram of accuracy scores (sampling distribution for accuracy)\r\n",
        "plt.hist(accuracy_scores)\r\n",
        "plt.xlabel(\"Accuracy\",fontsize=15)\r\n",
        "plt.ylabel(\"Frequency\",fontsize=15)\r\n",
        "plt.show()"
      ],
      "execution_count": null,
      "outputs": [
        {
          "output_type": "display_data",
          "data": {
            "image/png": "[encoded data removed]",
            "text/plain": [
              "<Figure size 432x288 with 1 Axes>"
            ]
          },
          "metadata": {
            "tags": [],
            "needs_background": "light"
          }
        }
      ]
    },
    {
      "cell_type": "code",
      "metadata": {
        "colab": {
          "base_uri": "https://localhost:8080/"
        },
        "id": "65Kef36M0oXF",
        "outputId": "9c78caea-a224-458f-8280-d94994162f83"
      },
      "source": [
        "# Calculating Bootstrap confidence intervals\r\n",
        "confidence_level = 0.95\r\n",
        "p = ((1.0-confidence_level)/2)*100\r\n",
        "lower_bound = max(0.0,np.percentile(accuracy_scores,p))\r\n",
        "p = p+confidence_level*100\r\n",
        "upper_bound = min(1.0,np.percentile(accuracy_scores,p))\r\n",
        "print(\"Mean of accuracy scores : \",np.average(accuracy_scores))\r\n",
        "print(\"Bootstrap confidence intervals for accuracy at \",str(confidence_level*100),\"% confidence level : (\",lower_bound,\" , \",upper_bound,\")\")"
      ],
      "execution_count": null,
      "outputs": [
        {
          "output_type": "stream",
          "text": [
            "Mean of accuracy scores :  0.7297022149410876\n",
            "Bootstrap confidence intervals for accuracy at  95.0 % confidence level : ( 0.6503329473074695  ,  0.7959571170240248 )\n"
          ],
          "name": "stdout"
        }
      ]
    },
    {
      "cell_type": "markdown",
      "metadata": {
        "id": "aMVrmiyQ215V"
      },
      "source": [
        "#### Observation\r\n",
        "* A non-parametric confidence interval that does not make any assumption about the functional form of the distribution of the statistic can be calculated using the bootstrap method. This confidence interval is often called the empirical confidence interval."
      ]
    },
    {
      "cell_type": "code",
      "metadata": {
        "id": "BaU5TWUNpU-i"
      },
      "source": [
        ""
      ],
      "execution_count": null,
      "outputs": []
    },
    {
      "cell_type": "markdown",
      "metadata": {
        "id": "d8jzYLWt4toJ"
      },
      "source": [
        "# Student's t distribution\r\n",
        "* Student's t was derived as an 'exact sample test' which is to be used when sample size 'n' is small, as the distribution of various statistics is far from normality.\r\n",
        "* Basic assumption is that parent population is normally distributed.\r\n",
        "* The probability density function is given below.\r\n",
        "---\r\n",
        "$$f(t)=\\frac{\\Gamma\\left(\\frac{\\nu+1}{2}\\right)}{\\sqrt{\\nu \\pi} \\;\\; \\Gamma\\left(\\frac{\\nu}{2}\\right)}\\left(1+\\frac{t^{2}}{\\nu}\\right)^{-\\frac{v+1}{2}} ; -\\infty < t < \\infty $$\r\n",
        "\r\n",
        "<br><br> $$ where $$\r\n",
        "<br> $$ \\nu = (n-1) = Degree \\; of \\; freedom $$\r\n",
        "<br> $$ n = Sample \\; size $$\r\n",
        "<br> $$ \\Gamma(x) = Gamma \\; function $$\r\n",
        "\r\n",
        "---\r\n",
        "\r\n",
        "* It is a continuous probability distribution."
      ]
    },
    {
      "cell_type": "code",
      "metadata": {
        "id": "OkBGS3Zu4s4B"
      },
      "source": [
        "df = 7\r\n",
        "t_rvs = np.random.standard_t(df,100)"
      ],
      "execution_count": null,
      "outputs": []
    },
    {
      "cell_type": "code",
      "metadata": {
        "colab": {
          "base_uri": "https://localhost:8080/",
          "height": 304
        },
        "id": "6xuSZPosNHsL",
        "outputId": "240aa4dd-b79f-4071-9146-bc7c8fd81b38"
      },
      "source": [
        "sns.distplot(t_rvs)\r\n",
        "plt.ylabel(\"Density\",fontsize=15)\r\n",
        "plt.xlabel(\"Data\",fontsize=15)\r\n",
        "plt.plot()"
      ],
      "execution_count": null,
      "outputs": [
        {
          "output_type": "execute_result",
          "data": {
            "text/plain": [
              "[]"
            ]
          },
          "metadata": {
            "tags": []
          },
          "execution_count": 34
        },
        {
          "output_type": "display_data",
          "data": {
            "image/png": "[encoded data removed]",
            "text/plain": [
              "<Figure size 432x288 with 1 Axes>"
            ]
          },
          "metadata": {
            "tags": [],
            "needs_background": "light"
          }
        }
      ]
    },
    {
      "cell_type": "code",
      "metadata": {
        "id": "tSi5gpdu67XB"
      },
      "source": [
        "from math import gamma\r\n",
        "\r\n",
        "def t_probability_density(t,df):\r\n",
        "  \"\"\"\r\n",
        "  Function to evaluate t distribution pdf at given value.\r\n",
        "\r\n",
        "  Parameters:\r\n",
        "  t: The value of t at which to evaluate pdf.Should be the first argument.\r\n",
        "  df: Degree of freedom\r\n",
        "\r\n",
        "  Returns:\r\n",
        "  The t pdf evaluated at the value t.\r\n",
        "  \"\"\"\r\n",
        "  constant_term = gamma((df+1)/2)/(np.sqrt(df*np.pi)*gamma(df/2))\r\n",
        "  return constant_term * (1+(t*t/df))**(-(df+1)/2)\r\n",
        "\r\n",
        "\r\n",
        "def integrate_t_pdf(a,b,df):\r\n",
        "  \"\"\"\r\n",
        "  Function to integrate t pdf to find probability.\r\n",
        "\r\n",
        "  Parameters:\r\n",
        "  a: The lower limit\r\n",
        "  b: The upper limit\r\n",
        "  df: Degree of freedom\r\n",
        "  \"\"\"\r\n",
        "  area,_ = quad(func = t_probability_density,a = a,b = b,args=(df))\r\n",
        "  return area\r\n"
      ],
      "execution_count": null,
      "outputs": []
    },
    {
      "cell_type": "code",
      "metadata": {
        "colab": {
          "base_uri": "https://localhost:8080/"
        },
        "id": "95-E92wl68qv",
        "outputId": "25b4e499-f833-48d8-e96e-f5a0db2512df"
      },
      "source": [
        "print(\"Probability at a single point : \",np.round(integrate_t_pdf(5,5,df),3))\r\n",
        "print(\"Probability or area under the entire curve is :  \",np.round(integrate_t_pdf(-np.inf,np.inf,df),3))\r\n",
        "a = 1.289\r\n",
        "b = 5.239\r\n",
        "print(\"Probability that x lies between any two points ,\",a,\" and \",b,\" is : \",np.round(integrate_t_pdf(a,b,df),3))"
      ],
      "execution_count": null,
      "outputs": [
        {
          "output_type": "stream",
          "text": [
            "Probability at a single point :  0.0\n",
            "Probability or area under the entire curve is :   1.0\n",
            "Probability that x lies between any two points , 1.289  and  5.239  is :  0.119\n"
          ],
          "name": "stdout"
        }
      ]
    },
    {
      "cell_type": "code",
      "metadata": {
        "id": "l0c_-a5mnYiS"
      },
      "source": [
        ""
      ],
      "execution_count": null,
      "outputs": []
    },
    {
      "cell_type": "markdown",
      "metadata": {
        "id": "ssZulFFglS8H"
      },
      "source": [
        "#Long Tailed Distribution"
      ]
    },
    {
      "cell_type": "markdown",
      "metadata": {
        "id": "TIj7-5wNzJ9t"
      },
      "source": [
        "###Heavy tailed distribution\r\n",
        "a distribution that is heavy tailed goes to zero slower than one with exponential tails; there will be more bulk under the curve of the PDF. Heavy tailed distributions tend to have many outliers with very high values. <br>\r\n",
        "<br>\r\n",
        "\r\n",
        "Distributions that have a lot of probability mass in their tails are known as heavy-tailed distributions. Two subclasses of heavy-tailed distributions are the fat-tailed distributions and the long-tailed distributions. Each is useful for modeling real-world phenomena.\r\n",
        "<br>\r\n",
        "<br>\r\n",
        "\r\n",
        "\r\n",
        "A **long tail distribution** has tails that taper off gradually rather than drop off sharply. They are a subset of heavy-tailed distributions. \r\n",
        "\r\n",
        "![image.png](data:image/png;base64,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)\r\n",
        "\r\n",
        "\r\n",
        "\r\n",
        "\r\n",
        "A positive function f is defined according to a limit. Very basically, the limit tells you where the distribution converges to at a certain point. In this case, if the ratio of x + y and x converge to 1 as the x-values get much larger, then the distribution is long-tailed:\r\n",
        "\r\n",
        "\r\n",
        "![image.png](data:image/png;base64,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)\r\n",
        "\r\n",
        "\r\n",
        "\r\n",
        "\r\n",
        "\r\n",
        "\r\n",
        "##Applications of a Long Tail Distribution\r\n",
        "\r\n",
        "\r\n",
        "Commerce and marketing schemes often find that there sales can best be modeled by long tail distributions. For instance, an internet store may have certain items with very high sales (modeled by the center of the distribution curve) and a large number of items with much lower sales (modeled by the long tail).\r\n",
        "\r\n",
        "\r\n",
        "<br>\r\n",
        "\r\n",
        "\r\n",
        "Although the sales volume for every individual item in the tail may be negligible, there are enough items that they play a significant role in the general profit taking. In fact, the profit from low-sale volume items can rival or even sometimes leave in the dust the profit made from best-sellers—provided only the tail is long enough.\r\n"
      ]
    },
    {
      "cell_type": "code",
      "metadata": {
        "id": "5hJyXioapWeQ"
      },
      "source": [
        ""
      ],
      "execution_count": null,
      "outputs": []
    },
    {
      "cell_type": "markdown",
      "metadata": {
        "id": "Sj8_glNhMUDD"
      },
      "source": [
        "# Chi Square Distribution\r\n",
        "\r\n",
        "A random variable ꭓ follows chi-square distribution if it can be written as a sum of squared standard normal variables.\r\n",
        "\r\n",
        "![](https://miro.medium.com/max/158/1*dk_0wN98IXn2iF3J5pQm-A.png)\r\n",
        "\r\n",
        "The chi-square distribution is a special case of the gamma distribution; A chi square distribution with n degrees of freedom is equal to a gamma distribution with a = n / 2 and b = 0.5 (or β = 2).\r\n",
        "\r\n",
        "Let's say you have a random sample taken from a normal distribution. The chi square distribution is the distribution of the sum of these random samples squared . The degrees of freedom (k) are equal to the number of samples being summed. For example, if you have taken 10 samples from the normal distribution, then df = 10. The degrees of freedom in a chi square distribution is also its mean. In this example, the mean of this particular distribution will be 10. Chi square distributions are always right skewed. However, the greater the degrees of freedom, the more the chi square distribution looks like a normal distribution.\r\n",
        "\r\n",
        "\r\n",
        "##Uses\r\n",
        "\r\n",
        "The chi-squared distribution has many uses in statistics, including:\r\n",
        "\r\n",
        "* Goodness of fit\r\n",
        "\r\n",
        "* Confidence interval estimation for a population standard deviation of a normal distribution from a sample standard deviation.\r\n",
        "\r\n",
        "* Independence of two criteria of classification of qualitative variables.\r\n",
        "\r\n",
        "* Relationships between categorical variables (contingency tables).\r\n",
        "\r\n",
        "* Sample variance study when the underlying distribution is normal.\r\n",
        "\r\n",
        "* Tests of deviations of differences between expected and observed frequencies (one-way tables).\r\n",
        "\r\n",
        "\r\n",
        "\r\n",
        "# Chi Square Test\r\n",
        "\r\n",
        "The chi-square test (a goodness of fit test).\r\n",
        "\r\n",
        "The chi-square test helps you to solve the problem in feature selection by testing the relationship between the features.<br>\r\n",
        "\r\n",
        "The test is applied when you have two categorical variables from a single population. It is used to determine whether there is a significant association between the two variables.\r\n",
        "\r\n",
        "\r\n",
        "\r\n",
        "\r\n",
        "\r\n",
        "![image.png](data:image/png;base64,iVBORw0KGgoAAAANSUhEUgAAASwAAAC5CAYAAACSoQIxAAAgAElEQVR4Ae2dQY7kOnKGH3wQr3wUb3ySOcAcwAfwXGF8BNuYlQEDXsyuHuCFl9558+ADzMqrGnzZ9amj2ZJSzJSUkvInwCYVJIPBn4y/Qsys6l8+k4JAEAgCJ0Hgl5PYGTODQBAIAp8/Edb//+Uvn8nBIGcgZ+DVZ2CMn38grD/9w99+JgeDnIGcgaOcgZa0BsKCTTHyD//0h8//+dM/JweDnIGcgZedAXgIPvrd7373A2f9RFiQVVIQCAJB4FUIEDzBQ3/3N7/c8m+//TaYMhAWQhgthDVgk0oQCAIvQqASFgRmGgjLV8IQltCkDAJB4FUIVMKqNgyElQirwpJ6EAgCr0LAV0Le+HgtTIT1qp3IvEEgCCxCIBHWIpjSKQgEgVcjYITlpXsirFfvSOYPAkFgFoFEWLPwpDEIBIGjIGCEtcsdFpf3v/7662f97oRAIJ9qs0/KIBAEgsAuERZkxDdTyXxTtb57/su//esPbdmSIBAEgsAYAkZYm99hQVIQE6nWeUaOLCkIBIEgcA+BzSMsWBFCIsqqdQzj9dDIi3LsdbG+Sta6r5Apv71mB4fgcGb/uEdUtBthbX6HVaOqWq8EhsNBWshMtldSS/3bq3VwCA5XOAPwAevwDUzfnyo3j7CYGIMgJFJLWDWqol99pj+kJXFhbFIQCALXQQB/hxPkh7mVwQOVsHg2Db+ag/DZX342esIwcg1dlcmy1QiNoaQfdky1176pB4EgcB4E8O1DRVhAB0lhFCWkQ0miDqGR58gIQiMnBYEgcC0EIKyeCGvzO6w14GVRY6+Ma+iOjiAQBF6HwCEjrGfhYFHPvpo+a0PGB4EgsD4CvRHW5t/DWmOJvE7eXgk/PtZQFx1BIAgcBIHLRVjcbbkoyrm7roPsQcwIAkFgIQK9EdZp7rCIsvJJ4cJTkG5B4CQIGIwsMbd+raH2H77WwKd5R7g7koUTYdVtSj0InB8BffveSnizqoRV37QGwkJ4FMIiwsJgcjX23kLTHgSCwHERuGyEBWFJoMeFP5YFgSDQg0BvhHWqOyxeUfNa2HMc0jcIHBuBy0dYLNBvyh97K2JdEAgC9xDojbBO8T2sysK5x7p3BNIeBM6DQPXte1bXS/fad7h0P9KnhN5hsUAMTwoCQeD8CPRGWKe6w2J7vMf6zLfez39as4K3R+DSEdZtdz8+ui7eb1+B+PiY/yrE0civsXfRGu4d/aOt8Z69aX8LBHojrNPdYXVFWB8fw/fICCWnLutpO0ryjo4I0u+bKZuyf4ntR1rjEnvT5z0QuHyEhRPrwHNbalQy9Pn4+OnuSz2UpKpbsoAkbu1EKB8f30iv6FKHZDKmg3GDjsGgbxXHMw4dEMut75c9jFU26Pgiszr2pm1kHvtUncpco8+3Pl86bGvMzWMQWBWB3ggLXyDKqudzuHRHqLOsamWnspaFcSxkS5IL0xnrs47KGpH7bClZ1LLWf+r3+Tmqg36Ms9Rux1O2NkiAkpjz0nfK1qrP+ZSpn9K2W/3z8za3Mvs7j7amDAJbIND69twcnElfCWu/gbB0Fjo+k9DDXxXUCVtdkkgr9/mnRXXcY1XnVh+lDky7dcqadeLbuEI44mFfnqnTX5ml+nmmX10rMp7JN51lDuasbfZRpn5LbWifa/923bc5v7Bgb7SBMehJCgJbI4Bv9/zFUQmLM2oaCMuD68G2Q0+JMf6JY4yrE6GHZ9r52sJU+omwGsKZGqf9EAn1OjdrkkB1Tsubvq/XP/oxjvKGQ3llUsdN79ccYzqcXx3aoT7ms25pH9rQybOlspud/PNl021sQ3S01f7VPvUxDv11bmXDHKkEgQ0QGPPtqWk4kxJW7TMQFg7Nob4d5Nqjow4ZyaBjxkFUGGGfMdVj43S2sf7IdEDtt7QNR1ZGeUslQmLNRh3U7Ss53Ail6T8lc/xtni8CmesryWgr412PMu3XLtqtD/PcWSM6HDfoL7JvoOTfILAdAvj2nO87s+eTsw1f8GwaCMvDjMM8mqpBLfGgH1kltToPhEEei8BYpI5cx9S6i6K0Xtupz7VJTpbONzZmTFb1T82vPY63VN7qmNKjfG581WndcXUe21IGga0RaDlhbj78b9MIC2doCauyKdEV7WNGQ1TIIasxQqP9FknMrfDJtpszlyilOveTqruGv2reLiPTOQg8gEDlh7nh+EAlrOoTq0ZYkg0TtMQkGVlOGey4aqSEVmVT45+Ro3/rOZ6xL2ODwJkR0LeXrKESVu0/EJZRDB0fTURUEhLGoZPIilIyoH3q0p0+Y4tCjl3P2PbomjIuCASBdRDAt+tb15RW/X3zOywMgJwwitLnahjGzKUxwqI/ZEVbUhAIAudEYMq3x1aDv296hzU26SOysUXdSK7j+1iPzJsxQSAIbIsAvt0TYUlYNcgZXgkREoK9+rVrjLCAkYgN+6rx28Ib7UEgCKyJwJRvj81x6giLBUFULJivHSQFgSBwPgR6I6xd7rCehXGOhWFdcqKsZ1HO+CCwPwJzvt1ac4kIi+iKRYew2u3NcxA4PgK9Edap77DcDsJEP4FUljIIBIHjI/BWEZbbwaJzjyUaKYPAeRDojbBOf4fF1vhp4Xm2KZYGgSAAAm8ZYflpYe6x4gRB4FwI9EZYl7jDYovyaeG5DmqsDQIg8NYRFqSVFASCwHkQ6I2wLnGHdduer6835PL9PIc1lgaBt4yw2HYu3ll8vt4QJwgC50GgN8K6zB0WW5R7rPMc1FgaBEDgbSMsFg9hAUA+LYwzBIFzINAbYV3nDutrf/Kt93Mc1FgZBEDgrSMsAcjFe5whCJwDgd4Ia5c7LP5Al38WucLIqxty8txrXA8L+8vQdZ7Ug0AQOCYCPb7NlY+EVVcz/AE/f+Xlme83QUYYZa6f4imzrEbUOu3oWZIgPl4Lk4JAEDg+Avh2z18c3fwOS7KBSKwLo+RFG/8RxVSU1Y5z/FTpp4VT7ZEHgSBwDAR6fHvzCEuSkkExzrpwETlBVrTVxFj6kuf+V506hjrjWFirr+2X5yAQBF6PwBgnjFmlX/tKyLNpeCVESAj2zCshBvk6V+tORpRFhpRqYm76k3sICx2OzeV7RTT1IHA8BMY4YcrK3SIsCQviqREWdZmSNuvVYMlHHbVtqu6YOtdU38iDQBB4HQIQ1hI/xachrM3vsDAGMjJaIpqCfCxr2xRsPSysDhZHHiNB+6QMAkHgtQj0+PbmEZZQQFpkSIpEKZHY5rNjatmzqGHc1y9DO+cgTyUIBIHDIIBvwwH3khHW5ndY9wxZ0v4QYX1+fvt6Q/4LsCUQp08QeAkCPb69W4T1LBI9i6pz+VpYZakHgSBwHAR6I6zN77DWgOZRwiKMZIFJQSAIHBOBHt++fIQFYXHBz0KTgkAQOB4CvRHWKndY7cV2vVRfA6IeFm7ng6wYnxQEgsDxEOjx7dUiLL6a4PekuPHnuSWxZ6DqWVQ7D3bcCCuX7y00eQ4CL0cA3+z5lHCVOyzISpLye1VrIvEMYWEHzEye++rEmvZGVxAIAssQ6PHt1SIsTIOozGsTQ8+iRmHKd7JGYYkwCLwagd4Ia5U7LBZNWIcyXw3XBOJpwkqUteZ2RFcQWA2BHt9eNcIiqoKwlryP9q62Z1FjurGNzPvv2tHf2HyRBYEgsAyB3ghrlTssTONyG8L6j//+v2WWdvR6lrCcCjLNXZZopAwCr0egx7dXjbBYOoSwRQTTs6jZLchd1iw8aQwCeyPQG2Gtdoe15UJXI6yv/6WDv5O1BbFuiUF0B4ErItDj26tHWFsB2rOoezawaPSFsO4hlfYgsD0C+OKSe2/8Fd9d7Q5ry6WtSVjYib78NdItdyy6g8AyBHp8+y0jLJn6RlrLME2vIBAENkIAP+yJsHa5w4IkzO26p+S1Xw8L13Fz9Rth5dd15iBKWxDYHIEe394lwvJ3+cZ+Zcdf6aFtjmV7FrUEYUgy/+HqEqTSJwhsiwC+Pef7zo7P7nKHJdlIXBqHARAWcjKkdSMSLSylOopolSp684nhKlBGSRB4CIEe394lwqrRE8ZJWHV1ENXehHUjx6/vZVVbUg8CQWA/BKY4obUAf62EVYOb1f9fQkiKCabYlEiLXI2wP0RGpn3t5ByJstZGNvqCwDIEpjhhbHQlrNo+EBavanzvgY6PJAlBsmmNo12yGtPP/JBdO26s7yMy5mdt6N8rMSd5KrHmoyTs/PP//vkHe7EP2TPpSGt8Zh0Z+zwC+N7YW1erWV/d/HtYEJKEo3EayDPRk+2tkT7fa7ffIyVAoH+v72X9/X/+46zD036UhC1//K8//kBYyp6x8UhrfGYdGfs8Aj2+vXmExXIgBElLoqKs8rkoCx09i+qFEDv2+sQQ58dZ2wgFG2hDrjMThSAjm2ivMscgVwey25o+P2/67IOOsT7qbtu0hfEm6tpPnWzERZ0xptqOTP3qRdausdVFX/S4HnWnvA4C+La8MLcqzkAlrHomhldChM+8Es4Z0NO2BWGxtuogRno6YQWkx9apvjqwDl/7IavtzG0/5bWkjeQ4+9NHQpgrJYI5G8BGG+w3pnNMpq22VVtpQ2+1ue3vOOWUSddEoMe3K2FVNAbC4tBekbB0BB2eZ5wE0qJe5Tw/S17V+dVdAUdmoq7DUq9ZO5Dp8HVc7es6lPFcZcxRE/1M1i2VUyqjxIaqE1n7jMz1qEcZfU1V5too+XNFtZ/9U14Dgd4Ia/M7rDVg7WHhufl0MBwAEiHXBIOT6YeT0Y+sI7ZOXsfO1Zmn6kJfTT63xGYfHR67SPSn7rhap73azjPt6EZu6dibwkJE6q+lfarM8a6LNufRPmTMWe0bW2OVoa/2d+3VhtSvg0CPb79NhIUDVCfmuU3IyDB4216dHIfSCVsdS54dX/siw8nNtFUZ8+m4tQ91U+1PnTXYl7LVQZ+a2vG0Vf32VWYp2fBMZt4xW6t+x1YZY2o0ZR/kra3akvL8CPRGWLv8LuGzsPawcDsXDqRjcPjvpRpljfXVgXTOsT5byFgD5CBBtKTKnMhqHrNjSfvYuC1ldS21vuWc0X0MBHp8+/IRFs6Noy8hKrePMYBIOZZ0eHRCWnv99JeomLNnPWNriCwIHAWB3gjrsndYEMujzn0vynKzmQPCMvpRnjIIBIFlCCTC+sJJIlkG2/deRlAACXHdS/Q32pqKyu7pSHsQeFcEeiOsS95hQSAQFmTycPr6xeilOnxlY96kIBAEliHw9hEWBLPGhTh6iLAAdGlijJFd7pmWopZ+74xAb4R1qTusShhrHAJJa8mrYZ1P0rKsbakHgSDwHYG3jrDWJggIi1c9QO0lLcb5akrEl/ut74c0tSAgAr0R1mXusCCXRz8VFLypEt2Eoo+SjsSV18QphCN/VwTeNsKCTIiwHiWVeweGCKs3ylKnkRqEio08JwWBIPDtL7H0/LWGy9xhrf06OHaYHnk1rHogKqKsrSLBOlfqQeAMCLxlhAURQAJbRi7oJnoD4Gf+2J96INgQ1zYuVaNs8OZ3FKusnZW2Lc9OO9+9Z+zB5pruraH2HasfbY3aiD/1RFiXuMNiM3D+XZL/ccWT/6dhJS7IK2kdBH7/+38f/v4/58JnypYEnJE/IDnVZp+9SuxobcW+VtZrz5HWWG0/ZISFUfytqTEm5VCNyXsWBVmhZ7f0RVrPzglpkRNtrbNzODVnAecEV5wfbK3TXhPt9NWZ7ceze4vMdvq3fdRBSWrbkaHLeer81Ot4xmI/djo/7cqom5fOo37X0I7z2X7ayvMeqTfC2vwOC4M0ylIgAAsiI88lxgH4WPITOHTtmdhYwFsruQ4cLJ8mPo6qDl0dz7NRCYt+PNeSM1ZljKvP1KusjrWfxGQbdtQ25Cb71FIbGEeq81XiujcP7VVvtcE6pfZJ9LVN3LR3i3LOt9v5+NDLV8LatupfHK0kVetMCFjIyHOJdjagTQCKg5NfkZ755HDMXtaTS/kxZJbLcFLPis7HaB1TTTo0cpyVcRKCpQ7PGPYGuXp8Zg6z43x2/ipHp0kb0KXdlvahVA9tZG1o56nP1PEL+2MDdeSmVkY7MvXbb8uy5YSpucCoEhbPpoGwEBJFPPpxPgor2dS6k/E6iLwaQBvPyMlEYB5Cx9lHgKt8rzobCz6t7c/Ojz6JmDn2TmDt4Qf/pXUO/KsTNmA/uFEHR/CsdWysZMH6aLe0v45LWeueOcaYax9kPNfSfsxh0gb7SiDI65myn/Yx3r6ORb92KbMPuhyrDB3KKF0zc9mGnq0T58s5781VCav2HQgLg58hLEDAIEip1utktI29EtKfNhYzRVg6ddW3e73zl6SX2sf6WR8HTKdbOnaun44DttQrIXFwyWBuu/3vlfR3/FSJXvSoewuHQL8OgP5qC20m6rSBLyXPrYy+tluyL/Qntf2Zr5XR37GMYy9N9K1t9FVmH2TiRhuZRFntR1Z10e76lTueceTaR53M5bjbRBv/Iz/cmwYcICz4iNdCnk0DYSF8hrBQiEFkQKAEEPQ6IYd3jLA0Rh0ewio/BGFh0EqX8HVttf7oayIYcyjnyIR294M9sv5Iic2Mq3pqnT3UWWqJXGeiv45UMeipa3u1B71jyb6Utb9y7KSOTdTretr+zlH7qJe+ym8Tff1Du/Lat/ahTlvbPjVWfXVcHe84+7Vt9bm1Y+1nOWGJ3s0jLIwAFIyqURIHFLntY2RUFzC2KEDlJwflq9PNhi/Seub1eWod6AcvCXpuzTpWSw5GNXNjp+ZfQ8687dysCXtbWyUz5Z6VNezo0YG94nmUs9Zj/xn64tuczXuJvaiEVc/SqhEWhqCcQ+cklveMtH2MsPxUrVeXOjcpNyQt7JW0cB7Wr8O3ERSOTsbZzpDYw7HsOiQwStZUz9Ie6/OMWe4x57vMMebbU2uvhFX7DITFwXj2lbAqfrQ+tiid9lGdW43jUAPs0p8cvXagH0cmYuVdnhJHRn4lh6prcW2cx0pe1sH6VWTWu3/p/yMCS/2EM4BfbX6H9aN5jz21hMXBXfMi+jGr5kcBrsRVnW9+1HRrfXUyekLm/dbR8Zhe2WMtrN3XXOpkCYwSjCg5K0nHRaD17TlL8afNv4c1Z8DStnZR3uUsHf+KfkYFXMjzU2HJe3prJzp0PJ0Qxxx0fw3gGUyIOt+NuMSilmAEbhU78JPg6Jt0DAR6IywJq+7h8EqI8IivhGcgrHoc+ClvxFWBrn1qnT46GyXjHWdZ+1unTWwo3zm6ECdKcGgjMH8A0PbOOHl2XlW2wcicHaeMsDhcOCOvQmdJOg2bQ55yEPpJVL7O6Hg9axUjI64zYdWzzkf7go9RGDibwR550n4I9EZYp7vD8s7mEUfebxvGZ7rZ/PWKyE8L14CT1E/6lI9rWS5FjxGXH1JMkeVyrdfoCTZk8JDAJC5LXyGD2XZ7fvkISwfcDsLtNeMobJTfTdNBkG+RdEywq1HXVvNtsYY9dUpi7oulr+e0g515T9uuNldvhHW6O6yzExaH3Nc+S6KtPZIORpTaktce8591DiMw90sCs0ROTiTWv8OXjrBwOBztjAcD2+sB96e0v9bDxt2I6+Njl/VhDzb4A8DIC3nSzwiAi5iBm3nsLox9Rm6fn7VFIgK9Edap7rA4ADjWmZwKW/3JTOnBd8OG8uPjRli8Jkpee62TeYy6JDBK0l42DDicuML5hKjI7GH9AUXdvRdTyxMv+WnTwQm/WJJO9ykhGwxhnSFxeCtR8TyXfji8X+Qlcd0bO6e3pw0bmEvyAmsjL2Q/2Nij+E37iudUFGYkxjnZa4+PthWc8SXfUQTLSlj1LB72e1j81D+640hSHEYPYgW368AU4mJjeX3kYD+sr2Ny5nAuoy7Jy32wvUPtW3Z1v8QU3MxGYW3JftMHsrtyYp34yZJUCav2HwgLwI7yxVGMxWGw6Wip/gQFfJ6x04P6jL03HQ1xgcWeOGCDzmb0BWm1BPbMOt99LPhybmquJOYPQkry7VxcALTeCOtUd1g4yZE2aoyosG8rG9UNYbHRbN4tnN7por76h7a0BAaJITNvhUW15Yp18WVtnjNLycsoHrnfGbPc8wfaM/hfNsLiMhonOELigPjTb++fdh5kSg4l5AVxsfHmPV8d635gD7lGXzUKo409tAyZVfTm63Xf3XtwrOTlmZwq6csYzq/lq/eAM3vJOyx/cr8KYOathwOQX2VLPdraQAl5+TUJX+WRmTkctz5VwQb1apPk1JJYJTLaktZFQEIy4jI6a8mMM8G59mxLautaM63N+ad7fG/h7PrF0e/Sz8/D3WEB4qsirDaaWvLToIK5dx2yMEteEpalERnPHGz63da18auldkloRFuQlRkS4wBTSmgSXl4x+0+SODOyYm8duedb0pK4WmLzmXZJ0BId1m/nqcNU9vt29u6MwWbOK2cX0qprGwgLoT+p7+h7qJnFYTB5bqGQFbka+dCECwZhB7luHBvC3OYFag7TRZvHSg+Ae1CJTJkkJy6W6FszqZdSWyEpictScqulr5lVx1h9bZvXXP+RdI1hp6z6hSQ2VnJ+lFtnrHoo2Q/akC9JnMWXRVgYCwlhLHmOkFgU7Vsk7ICQsEGAKXlGfsXEms2sj7qJgyRJ1ZI9kNAsa/tcXd33Su3QtrGyjcokLgmNcqpu33uldtyz9x3aWyza5xYDzo++g//U3PoYfoZf90RYEla1Y5cIiwkxlgWS5giLA8Yh7EnoR7eZZ8CrpGQdIAWZfuae+a7U1/XXEhzb5zmSqm2Q3dLMuPqhgftnWW2wTptj5krIjn3mPFlSlwQtPW+PlOK0Z3nEs+fejJViQ5vBwZI1cDYkrNp/ICwUb/VKiO5KUrWOMSyGQ2V0tfTA2w99Ls4Sme2WAGbd+XxO+Z1oWmza5yVYGZnRd6zO/pBpc88o63Ot26fKrFveG898rsXStdTzsrROP+bcs9TeM5bg1BNhua/wg2kgLIR0uP3Us3WlEt0Y68TUITETcg4QmTayz0vLGo5SZxybunT8K/th5yNrfqXNS+fmPI31RV7XzUEm27et13b2t7YzppXV9jpW/WuURGWPZva7dyw2n+VMj+HrGdfv58qXRlgSFgenjbaq0fRzQ6r8Xp1xZFKt+2xZ+yijfHUCFzZT+15tT2uHz5bYN1ZHprwt2zE8u+7e9aq7jhuT1fZat29b0qeV3XuuepfWeR1lv98tLfVtMK+E5R6A1y4RFhN5ONko6lMJZp5rnxp3ZjkkzrrfLb3runFAnPfdUo9vV8KqOA2ExeHZ6pWwTph6EAgCQWAOASOsl91hzRmXtiAQBIJAi0AirBaRPAeBIHBIBIyw/GT4JXdYh0QmRgWBIHBIBE4RYcGklU0PieQGRrnud1w7cLr+DaA9tErXfeV9d41uRPusvJb0gbAOfYfFpT+fnPApIpnnd0h8IuqXD9/hkyMOY/2kuO75lT8dZt2slU/KqL/DvrNW/dlPCN1vyjkfP3yE5WZCUrV+ddJiI8nvkjzEOCwHlgNN4pk6znzF5Lo526R32Hf2lP2swQjrruQ9tte0V8KqZ2L4WgPCV36toZKU9Wro2MLOLmN9/gRizXM/cc6+Vu1nze5vS1jIr7rnrAtnZY2kd9p395w1Q2Ikz8DtYeSfSli1eSAsDs/RCKsaesW6P3nYRH8CX3Gd7Zo4rKyZrANTv3KEVQlLB36XfZec3HfOg7L2bPAMPoe/w6oLoE5+hwRpsUHkKzts3Uv2VsJizSTJCzyummqE5Trd9yuvmXWTWh9XPrb2w0dY/oRlUTV0HFvMlWSs1zVTvkNinRxWnPVd1s9aK2G9w7pZLx8oud8849s8U0ra7ZkHq0pYPJuGV0KEr3wlxCAWwKKmFqLRVyo9yBD2uyT210Ponr/D+lmzZ/sd1s2emvFrEs9LfLwSVvWLgbAA8NWEVQ1LPQgEgfdEAGI//B3We25NVh0EgsAYAomwxlCJLAgEgcMhYISV3yU83NbEoCAQBMYQSIQ1hkpkQSAIHA4BIyzu1ImyeDYNl+4Ic+kuLCmDQBB4JQKJsF6J/oHm5gcTnwj7U4vSumaOyWhD7sfy9t2rZN5H5m7X1to7tda2X573Q4A9qYRV9zAR1n778PKZ2Pj65T2+E8MX+Mg1+eW+KqOvX/ib+9JfHbNGHZvrvH6fB931INe5lGMzrxRjREcf8thaq67UX4NAJaxqwUBYbGpeCSs016rjnDg+mYQzV8LSgWmDFGiryW8s2y4JMI46eayOjOR86qxjbFenfSglK3WrpxIN46q9tEmqjGcsmT6UkjZlu1b6jNlRbUp9WwTYIwgrd1jb4nxo7TghpFMdG4NxbMmIujKJzUXVfso4WMjpiw7++yoJhnmcj7kliToHdcmGOrm1Tz22STjodnzV7TppQ04//s9CnsnYp73aSolen+nHc9LrEEiE9TrsDzGzjlwJAZmOLDEow3lJ1XGRSRTVweknObX60ItOyMPxjK16HEOJvE0SEm3UnY86upij6lYfROUYSvowxrWql/7iQ0mu627tyfO2CIB9Jay6F8PpQJhXwm034pXa2V8cU4fXKXVu5Di1/XRix9if9ur8tEsAEITEIVnQ5hz2Awdl1iUWxtfEfM7tGCK52r/aQF+e0eN8yKodrrVGXvRBJ8n5qh2p74tAJaw680BYbFIIq0JzvbpOizOTJRUc3LpOLHEwhrNhNIKc/sjIkgMlfZxDUuDZscrqHBCSY9BNn5pqm3NIqvZXDuGgWxv5r+CRoUOZfSmrjDnrM2tLeg0C7G/usF6D/eFmlXx0SEoyh4TIhYSDK3MBEgtt1E3KjXiQq9O+9IFI0E8biTayyeeq2zbGQGSORU7d8ZTqp02b6IPc/uhQP2PUoV7a2nlug/PP7ggkwtod8veZEIc3cnmfVWelWyHAD45KWP6QYb7hlRBhXgm32oLr64W06sG6/oqzwi0RqIRV53cLWJEAAADWSURBVBkIiwMXwqrQpB4EgsArEDDCgo+4aqg/CAfCSoT1iq3JnEEgCIwhkAhrDJXIgkAQOBwCRlhEV4mwDrc9MSgIBIEWgURYLSJ5DgJB4JAIGGHlDuuQ2xOjgkAQaBFIhNUikucgEAQOiYARVtcdFoOSg0HOQM7AK87A4giL98bkYJAzkDNwhDMw+SkhsSGsxq9YGIql/PaxanAIDjkDrzsD9b11+OIoQkK/+hvrkFdyMMgZyBl45RmAl0w/EJbClEEgCASBIyIQwjrirsSmIBAERhH4K4/lky2XcbbvAAAAAElFTkSuQmCC)\r\n",
        "\r\n",
        "\r\n",
        "\r\n",
        "\r\n",
        "\r\n",
        "\r\n",
        "\r\n",
        "\r\n",
        "\r\n",
        "\r\n"
      ]
    },
    {
      "cell_type": "code",
      "metadata": {
        "id": "KDff7Kuhvt_X"
      },
      "source": [
        "import scipy.stats as stats\r\n",
        "import seaborn as sns\r\n",
        "import pandas as pd\r\n",
        "import numpy as np\r\n",
        "#dataset present in seaborn\r\n",
        "dataset=sns.load_dataset('tips')"
      ],
      "execution_count": null,
      "outputs": []
    },
    {
      "cell_type": "code",
      "metadata": {
        "colab": {
          "base_uri": "https://localhost:8080/",
          "height": 195
        },
        "id": "ybXCTjQfvwO8",
        "outputId": "904bcab5-252e-4ac7-d58f-2276cb5b2330"
      },
      "source": [
        "dataset.head()\r\n"
      ],
      "execution_count": null,
      "outputs": [
        {
          "output_type": "execute_result",
          "data": {
            "text/html": [
              "<div>\n",
              "<style scoped>\n",
              "    .dataframe tbody tr th:only-of-type {\n",
              "        vertical-align: middle;\n",
              "    }\n",
              "\n",
              "    .dataframe tbody tr th {\n",
              "        vertical-align: top;\n",
              "    }\n",
              "\n",
              "    .dataframe thead th {\n",
              "        text-align: right;\n",
              "    }\n",
              "</style>\n",
              "<table border=\"1\" class=\"dataframe\">\n",
              "  <thead>\n",
              "    <tr style=\"text-align: right;\">\n",
              "      <th></th>\n",
              "      <th>total_bill</th>\n",
              "      <th>tip</th>\n",
              "      <th>sex</th>\n",
              "      <th>smoker</th>\n",
              "      <th>day</th>\n",
              "      <th>time</th>\n",
              "      <th>size</th>\n",
              "    </tr>\n",
              "  </thead>\n",
              "  <tbody>\n",
              "    <tr>\n",
              "      <th>0</th>\n",
              "      <td>16.99</td>\n",
              "      <td>1.01</td>\n",
              "      <td>Female</td>\n",
              "      <td>No</td>\n",
              "      <td>Sun</td>\n",
              "      <td>Dinner</td>\n",
              "      <td>2</td>\n",
              "    </tr>\n",
              "    <tr>\n",
              "      <th>1</th>\n",
              "      <td>10.34</td>\n",
              "      <td>1.66</td>\n",
              "      <td>Male</td>\n",
              "      <td>No</td>\n",
              "      <td>Sun</td>\n",
              "      <td>Dinner</td>\n",
              "      <td>3</td>\n",
              "    </tr>\n",
              "    <tr>\n",
              "      <th>2</th>\n",
              "      <td>21.01</td>\n",
              "      <td>3.50</td>\n",
              "      <td>Male</td>\n",
              "      <td>No</td>\n",
              "      <td>Sun</td>\n",
              "      <td>Dinner</td>\n",
              "      <td>3</td>\n",
              "    </tr>\n",
              "    <tr>\n",
              "      <th>3</th>\n",
              "      <td>23.68</td>\n",
              "      <td>3.31</td>\n",
              "      <td>Male</td>\n",
              "      <td>No</td>\n",
              "      <td>Sun</td>\n",
              "      <td>Dinner</td>\n",
              "      <td>2</td>\n",
              "    </tr>\n",
              "    <tr>\n",
              "      <th>4</th>\n",
              "      <td>24.59</td>\n",
              "      <td>3.61</td>\n",
              "      <td>Female</td>\n",
              "      <td>No</td>\n",
              "      <td>Sun</td>\n",
              "      <td>Dinner</td>\n",
              "      <td>4</td>\n",
              "    </tr>\n",
              "  </tbody>\n",
              "</table>\n",
              "</div>"
            ],
            "text/plain": [
              "   total_bill   tip     sex smoker  day    time  size\n",
              "0       16.99  1.01  Female     No  Sun  Dinner     2\n",
              "1       10.34  1.66    Male     No  Sun  Dinner     3\n",
              "2       21.01  3.50    Male     No  Sun  Dinner     3\n",
              "3       23.68  3.31    Male     No  Sun  Dinner     2\n",
              "4       24.59  3.61  Female     No  Sun  Dinner     4"
            ]
          },
          "metadata": {
            "tags": []
          },
          "execution_count": 6
        }
      ]
    },
    {
      "cell_type": "markdown",
      "metadata": {
        "id": "5sspXG2SzXzS"
      },
      "source": [
        "### Let us find out relation between sex and smoker (2 categorical variables)\r\n",
        "- checking association of 2 feature"
      ]
    },
    {
      "cell_type": "code",
      "metadata": {
        "colab": {
          "base_uri": "https://localhost:8080/"
        },
        "id": "Y3ELKmKevyvS",
        "outputId": "e69c73e3-c3e4-41b0-d668-b352751e93a5"
      },
      "source": [
        "dataset_table=pd.crosstab(dataset['sex'],dataset['smoker'])\r\n",
        "print(dataset_table)"
      ],
      "execution_count": null,
      "outputs": [
        {
          "output_type": "stream",
          "text": [
            "smoker  Yes  No\n",
            "sex            \n",
            "Male     60  97\n",
            "Female   33  54\n"
          ],
          "name": "stdout"
        }
      ]
    },
    {
      "cell_type": "code",
      "metadata": {
        "colab": {
          "base_uri": "https://localhost:8080/"
        },
        "id": "k92tYodJznDr",
        "outputId": "7974fb7e-d6ee-4132-dadc-b84dde1e5919"
      },
      "source": [
        "#Observed Values\r\n",
        "Observed_Values = dataset_table.values \r\n",
        "print(\"Observed Values ==>\\n\",Observed_Values)"
      ],
      "execution_count": null,
      "outputs": [
        {
          "output_type": "stream",
          "text": [
            "Observed Values ==>\n",
            " [[60 97]\n",
            " [33 54]]\n"
          ],
          "name": "stdout"
        }
      ]
    },
    {
      "cell_type": "markdown",
      "metadata": {
        "id": "6Srr2k-tBGTC"
      },
      "source": [
        "# Chi-square test of independence of variables in a contingency table.\r\n",
        "\r\n",
        "\r\n",
        "This function computes the chi-square statistic and p-value for the\r\n",
        "hypothesis test of independence of the observed frequencies in the\r\n",
        "contingency table `observed`."
      ]
    },
    {
      "cell_type": "code",
      "metadata": {
        "colab": {
          "base_uri": "https://localhost:8080/"
        },
        "id": "sdQ2bWDVBBgM",
        "outputId": "6fb89d87-decf-411a-d694-95686c7ce474"
      },
      "source": [
        "val=stats.chi2_contingency(dataset_table)\r\n",
        "val"
      ],
      "execution_count": null,
      "outputs": [
        {
          "output_type": "execute_result",
          "data": {
            "text/plain": [
              "(0.008763290531773594, 0.925417020494423, 1, array([[59.84016393, 97.15983607],\n",
              "        [33.15983607, 53.84016393]]))"
            ]
          },
          "metadata": {
            "tags": []
          },
          "execution_count": 14
        }
      ]
    },
    {
      "cell_type": "code",
      "metadata": {
        "id": "MnWHyZESBZ_8"
      },
      "source": [
        "Expected_Values=val[3]\r\n"
      ],
      "execution_count": null,
      "outputs": []
    },
    {
      "cell_type": "code",
      "metadata": {
        "colab": {
          "base_uri": "https://localhost:8080/"
        },
        "id": "z__3EG1_BcJt",
        "outputId": "4094e2e9-29f8-409b-b424-dc686cf97e55"
      },
      "source": [
        "no_of_rows=len(dataset_table.iloc[0:2,0])\r\n",
        "no_of_columns=len(dataset_table.iloc[0,0:2])\r\n",
        "ddof=(no_of_rows-1)*(no_of_columns-1) #Degree of Freedom\r\n",
        "print(\"Degree of Freedom ==>\",ddof)\r\n",
        "alpha = 0.05 #how many variance we have to capture (around 95 %)\r\n"
      ],
      "execution_count": null,
      "outputs": [
        {
          "output_type": "stream",
          "text": [
            "Degree of Freedom ==> 1\n"
          ],
          "name": "stdout"
        }
      ]
    },
    {
      "cell_type": "markdown",
      "metadata": {
        "id": "h0-13M6-3xLQ"
      },
      "source": [
        "![](https://miro.medium.com/max/333/1*S8rfFkmLhDbOz4RGNwuz6g.png)"
      ]
    },
    {
      "cell_type": "code",
      "metadata": {
        "id": "D-cuyd_CBeMi"
      },
      "source": [
        "#Chi Square Formula\r\n",
        "from scipy.stats import chi2\r\n",
        "chi_square=sum([(o-e)**2./e for o,e in zip(Observed_Values,Expected_Values)])\r\n",
        "chi_square_statistic=chi_square[0]+chi_square[1]"
      ],
      "execution_count": null,
      "outputs": []
    },
    {
      "cell_type": "code",
      "metadata": {
        "colab": {
          "base_uri": "https://localhost:8080/"
        },
        "id": "vxqTEtFizpUD",
        "outputId": "b47683d2-23d9-4429-c240-a6ae6e559049"
      },
      "source": [
        "print(\"chi-square statistic:-\",chi_square_statistic)\r\n",
        "critical_value=chi2.ppf(q=1-alpha,df=ddof) #Percent point function (inverse of `cdf`) \r\n",
        "print('critical_value ==> ',critical_value)"
      ],
      "execution_count": null,
      "outputs": [
        {
          "output_type": "stream",
          "text": [
            "chi-square statistic:- 0.001934818536627623\n",
            "critical_value ==>  3.841458820694124\n"
          ],
          "name": "stdout"
        }
      ]
    },
    {
      "cell_type": "code",
      "metadata": {
        "colab": {
          "base_uri": "https://localhost:8080/"
        },
        "id": "dkwxkcuBBvQp",
        "outputId": "17f2fac4-eb24-45a9-f73f-3c333f165c55"
      },
      "source": [
        "#p-value\r\n",
        "p_value=1-chi2.cdf(x=chi_square_statistic,df=ddof)\r\n",
        "print('p-value==>',p_value)\r\n",
        "print('Significance level==> ',alpha)\r\n",
        "print('Degree of Freedom==> ',ddof)\r\n",
        "print('p-value==> ',p_value)"
      ],
      "execution_count": null,
      "outputs": [
        {
          "output_type": "stream",
          "text": [
            "p-value: 0.964915107315732\n",
            "Significance level:  0.05\n",
            "Degree of Freedom:  1\n",
            "p-value: 0.964915107315732\n"
          ],
          "name": "stdout"
        }
      ]
    },
    {
      "cell_type": "code",
      "metadata": {
        "colab": {
          "base_uri": "https://localhost:8080/"
        },
        "id": "7ySqtBHSBwo8",
        "outputId": "e8ab6b82-693f-485e-a106-16bca6c854e9"
      },
      "source": [
        "if chi_square_statistic>=critical_value:\r\n",
        "    print(\"Reject Null Hypothesis  H0,There is a relationship between 2 categorical variables(Alternate Hypothesis (H1): Two variables are not independent)\")\r\n",
        "else:\r\n",
        "    print(\"Retain Null Hypothesis H0,There is no relationship between 2 categorical variables(Null Hypothesis (H0): Two variables are independent)\")\r\n",
        "#OR\r\n",
        "if p_value<=alpha:\r\n",
        "    print(\"Reject Null Hypothesis H0,There is a relationship between 2 categorical variables(Alternate Hypothesis (H1): Two variables are not independent)\")\r\n",
        "else:\r\n",
        "    print(\"Retain Null Hypothesis H0,There is no relationship between 2 categorical variables(Null Hypothesis (H0): Two variables are independent)\")"
      ],
      "execution_count": null,
      "outputs": [
        {
          "output_type": "stream",
          "text": [
            "Retain Null Hypothesis H0,There is no relationship between 2 categorical variables(Null Hypothesis (H0): Two variables are independent)\n",
            "Retain Null Hypothesis H0,There is no relationship between 2 categorical variables(Null Hypothesis (H0): Two variables are independent)\n"
          ],
          "name": "stdout"
        }
      ]
    },
    {
      "cell_type": "code",
      "metadata": {
        "id": "eqZ-MZoupZhe"
      },
      "source": [
        ""
      ],
      "execution_count": null,
      "outputs": []
    },
    {
      "cell_type": "markdown",
      "metadata": {
        "id": "lWmEvMxTl-wH"
      },
      "source": [
        "#F Test"
      ]
    },
    {
      "cell_type": "markdown",
      "metadata": {
        "id": "_mD7z4RwU7Fo"
      },
      "source": [
        "**F-test** is used to test whether two population variances are equal. <br>\r\n",
        "\r\n",
        "An **F Test** is a catch-all term for any test that uses the F-distribution. In most cases, when people talk about the F-Test, what they are actually talking about is The F-Test to Compare Two Variances. However, the f-statistic is used in a variety of tests including regression analysis, the Chow test,etc.\r\n",
        "\r\n",
        "\r\n",
        "A two tailed f test is the standard type of f test which will tell you if the variances are equal or not equal. The two tailed version of test will test if one variance is greater than, or less than, the other variance. \r\n"
      ]
    },
    {
      "cell_type": "markdown",
      "metadata": {
        "id": "EPHtII5jf4xI"
      },
      "source": [
        "![image.png](data:image/png;base64,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)\r\n",
        "\r\n"
      ]
    },
    {
      "cell_type": "markdown",
      "metadata": {
        "id": "SFxQTS8AN_Gs"
      },
      "source": [
        "##F Test to Compare Two Variances\r\n",
        "A Statistical F Test uses an F Statistic to compare two variances, s1 and s2, by dividing them. The result is always a positive number (because variances are always positive). The equation for comparing two variances with the f-test is:\r\n",
        "F = s21 / s22\r\n",
        "\r\n",
        "If the variances are equal, the ratio of the variances will equal 1. For example, if you had two data sets with a sample 1 (variance of 10) and a sample 2 (variance of 10), the ratio would be 10/10 = 1.\r\n",
        "\r\n",
        "You always test that the population variances are equal when running an F Test. In other words, you always assume that the variances are equal to 1. Therefore, your null hypothesis will always be that the variances are equal.\r\n",
        "\r\n",
        "\r\n",
        "\r\n",
        "\r\n",
        "\r\n",
        "\r\n",
        "\r\n",
        "\r\n",
        "\r\n",
        "\r\n",
        "![image.png](data:image/png;base64,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)\r\n",
        "\r\n"
      ]
    },
    {
      "cell_type": "markdown",
      "metadata": {
        "id": "dWwlZGPDMRE7"
      },
      "source": [
        "##General Steps for an F Test\r\n",
        "\r\n",
        "\r\n",
        "1. State the null hypothesis and the alternate hypothesis.\r\n",
        "2. Calculate the F value. The F Value is calculated using the formula F = (SSE1 – SSE2 / m) / SSE2 / n-k, where SSE = residual sum of squares, m = number of restrictions and k = number of independent variables.\r\n",
        "3. Find the F Statistic (the critical value for this test). \r\n",
        " You can find the F Statistic in the F-Table.\r\n",
        "4. Support or Reject the Null Hypothesis."
      ]
    },
    {
      "cell_type": "markdown",
      "metadata": {
        "id": "gImVJI32VGpJ"
      },
      "source": [
        "H0==>the population variances are equal\r\n",
        "\r\n",
        "H1==>the population variances are not equal"
      ]
    },
    {
      "cell_type": "code",
      "metadata": {
        "id": "xnUc0VrKl9uf",
        "colab": {
          "base_uri": "https://localhost:8080/"
        },
        "outputId": "2aae71b7-d618-419f-e2c6-ac1a8abb1b66"
      },
      "source": [
        "import random\r\n",
        "import numpy as np\r\n",
        "import scipy.stats\r\n",
        "\r\n",
        "x = random.sample(range(10, 60), 10)\r\n",
        "y = random.sample(range(10, 60), 10)\r\n",
        "print(x)\r\n",
        "print(y)"
      ],
      "execution_count": null,
      "outputs": [
        {
          "output_type": "stream",
          "text": [
            "[56, 19, 16, 13, 32, 52, 43, 14, 27, 46]\n",
            "[47, 44, 11, 38, 50, 59, 57, 24, 34, 54]\n"
          ],
          "name": "stdout"
        }
      ]
    },
    {
      "cell_type": "code",
      "metadata": {
        "id": "dbC6bqcfW7ZR",
        "colab": {
          "base_uri": "https://localhost:8080/"
        },
        "outputId": "7d70a2ee-261b-4692-a265-d24566989698"
      },
      "source": [
        "x = np.array(x)\r\n",
        "y = np.array(y)\r\n",
        "f = np.var(x, ddof=1)/np.var(y, ddof=1) #calculate F test statistic \r\n",
        "dfn = x.size-1 #define degrees of freedom numerator \r\n",
        "dfd = y.size-1 #define degrees of freedom denominator \r\n",
        "p = 1-scipy.stats.f.cdf(f, dfn, dfd) #find p-value of F test statistic \r\n",
        "print(f,p)"
      ],
      "execution_count": null,
      "outputs": [
        {
          "output_type": "stream",
          "text": [
            "1.147475893363585 0.4204945088440154\n"
          ],
          "name": "stdout"
        }
      ]
    },
    {
      "cell_type": "markdown",
      "metadata": {
        "id": "4kgYyZ-ubYRW"
      },
      "source": [
        "p-value above is less than .05 so we would reject the NULL hypothesis.\r\n",
        "This means we have sufficient evidence to say that the two population variances are not equal.<br>\r\n",
        "\r\n",
        "\r\n",
        "The p-value corresponds to 1 – cdf of the F distribution with numerator degrees of freedom = n1-1 and denominator degrees of freedom = n2-1."
      ]
    },
    {
      "cell_type": "markdown",
      "metadata": {
        "id": "KY2SCGNrgTFB"
      },
      "source": [
        "The F-test is typically used to answer one of the following questions ==>\r\n",
        "\r\n",
        "1. Do two samples come from populations with equal variances?\r\n",
        "\r\n",
        "2. Does a new treatment or process reduce the variability of some current treatment or process?"
      ]
    },
    {
      "cell_type": "code",
      "metadata": {
        "id": "1p22RpwwpbZd"
      },
      "source": [
        ""
      ],
      "execution_count": null,
      "outputs": []
    },
    {
      "cell_type": "code",
      "metadata": {
        "id": "LSMt5_qUzHgd"
      },
      "source": [
        ""
      ],
      "execution_count": null,
      "outputs": []
    },
    {
      "cell_type": "markdown",
      "metadata": {
        "id": "CEmn4rZEvVoL"
      },
      "source": [
        "# Bias\r\n",
        "* Bias in simple terms can be considered as preference or inclination towards some object or entity or person whether intentional or unintentional.\r\n",
        "* Bias also needs to be addressed  while sampling and in fitting machine learning models.\r\n",
        "* A biased sample may not be a true representative of the population and inferences drawn from a biased sample can be misleading.\r\n",
        "* The two prominent types of bias are :\r\n",
        "<br><br>\r\n",
        "<strong>1. Selection Bias: </strong>\r\n",
        "* It is introduced by selection in such a way that proper randomization is not achieved.<br>\r\n",
        "* It can be considered as errors in the process after sample is gathered.<br><br>\r\n",
        "<strong>2. Sample Bias: </strong>\r\n",
        "* Occurs when some members of the population are systematically more likely to be selected as part of the sample.<br>\r\n",
        "* It can be considered as errors in the process of gathering the sample.<br>\r\n",
        "* Sample bias is sometimes considered a type of selection bias.\r\n",
        "\r\n",
        "### Bias in AI\r\n",
        "* Removing bias is a big concern in AI and data science.\r\n",
        "* AI algorithms learn the statistical patterns underlying the data, which can include human biases and other societal or historical inequalities and hence bias creeps into AI systems."
      ]
    },
    {
      "cell_type": "code",
      "metadata": {
        "id": "AMduJ6I5pfcy"
      },
      "source": [
        ""
      ],
      "execution_count": null,
      "outputs": []
    },
    {
      "cell_type": "markdown",
      "metadata": {
        "id": "QdR701SC7YZk"
      },
      "source": [
        "## Regression to the mean\r\n",
        "* <strong>Bivariate Distribution: </strong>It is a series where each term or each unit has 2 values associated with it.<br>\r\n",
        "eg. study of heights and weights of a certain group of individuals.\r\n",
        "\r\n",
        "* <strong>Regression: </strong>The term \"regression\" literally means \"stepping back towards the average\". Sir Francis Galton found that the offsprings of abnormally tall or short parents tend to \"regress\" or \"step back\" to the average population height.\r\n",
        "\r\n",
        "### So what does <i>Regression to the Mean</i> actually means?\r\n",
        "* Regression to the mean is all about how data evens out.\r\n",
        "* It basically states that if a variable is extreme the first time you measure it, it will be closer to the average the next time you measure it.\r\n",
        "\r\n",
        "### Why does it happen?\r\n",
        "* <strong>Sampling error: </strong>If sampling technique is not good, then results may be abnormally high or low for the average and therefore would regress back to the mean.\r\n",
        "* <strong>Unrepresentative sample: </strong>If the sample is very small or unrepresentative of the population, then also results would regress back to the mean."
      ]
    },
    {
      "cell_type": "code",
      "metadata": {
        "id": "XxDCnvEsSeDK"
      },
      "source": [
        "def plot_die_distributon(num_throws):\r\n",
        "  rolls =  list(np.random.randint(1,7,num_throws))\r\n",
        "  distribution = [rolls.count(i) for i in range(1,7,1)]\r\n",
        "  return distribution"
      ],
      "execution_count": null,
      "outputs": []
    },
    {
      "cell_type": "code",
      "metadata": {
        "colab": {
          "base_uri": "https://localhost:8080/",
          "height": 950
        },
        "id": "aEZINnyvTHM7",
        "outputId": "c6cc5df7-06c0-4b5c-e216-a0cf8b6eda1f"
      },
      "source": [
        "sample_sizes = [1,6,12,60,600,6000]\r\n",
        "frequencies = []\r\n",
        "for size in sample_sizes:\r\n",
        "  frequencies.append(plot_die_distributon(size))\r\n",
        "  \r\n",
        "k = 0\r\n",
        "  \r\n",
        "# plotting all in one figure \r\n",
        "fig, ax = plt.subplots(3, 2, figsize =(10, 16)) \r\n",
        "for i in range(0, 3): \r\n",
        "    for j in range(0, 2): \r\n",
        "        ax[i, j].bar([i for i in range(1,7,1)],frequencies[k]) \r\n",
        "        ax[i, j].set_title(label = \"Number of die rolls : \"+str(sample_sizes[k]),fontsize=15) \r\n",
        "        ax[i, j].set_ylabel(\"Count\")\r\n",
        "        ax[i, j].set_xlabel(\"Number on die\")\r\n",
        "        k = k + 1\r\n",
        "plt.show()"
      ],
      "execution_count": null,
      "outputs": [
        {
          "output_type": "display_data",
          "data": {
            "image/png": "[encoded data removed]",
            "text/plain": [
              "<Figure size 720x1152 with 6 Axes>"
            ]
          },
          "metadata": {
            "tags": []
          }
        }
      ]
    },
    {
      "cell_type": "markdown",
      "metadata": {
        "id": "pwEt-pNjV5DY"
      },
      "source": [
        "#### Observation\r\n",
        "* With the first roll, we can get any number randomly but as the number of rolls increase the results of die rolls sort of even outs and a weighted average of these rolls would result in a average of 3.5"
      ]
    },
    {
      "cell_type": "code",
      "metadata": {
        "id": "PlrNwAXIVDj_"
      },
      "source": [
        ""
      ],
      "execution_count": null,
      "outputs": []
    },
    {
      "cell_type": "markdown",
      "metadata": {
        "id": "5mGnXJIjxUyb"
      },
      "source": [
        "# Conclusion\r\n",
        "* Statistics and pattern recognition is a very important part of AI.\r\n",
        "* Data sampling and statistical experiments are a part of data science jobs\r\n",
        "* Understanding the distribution of data helps in discovering the underlying patterns.\r\n",
        "* Population data is almost always unknown.\r\n",
        "* Much of the information can be inferred from samples drawn from a large population. \r\n",
        "* When the distribution is unknown, bootstrap confidence intervals can be used to estimate confidence intervals."
      ]
    },
    {
      "cell_type": "markdown",
      "metadata": {
        "id": "I_46YSuVyKop"
      },
      "source": [
        "## Optional Content\r\n",
        "Below, you can find a python script which calculates and plots the area under curve between two choosen points on a gaussian distribution with given mean and standard deviation."
      ]
    },
    {
      "cell_type": "code",
      "metadata": {
        "id": "fcKIi6qCdbzz"
      },
      "source": [
        "from scipy.integrate import quad\r\n",
        "from matplotlib.patches import Polygon\r\n",
        "def normal_probability_density(x,mu,sigma):\r\n",
        "  \"\"\"\r\n",
        "  Function to evaluate normal pdf at given value.\r\n",
        "\r\n",
        "  Parameters:\r\n",
        "  x: The value of x at which to evaluate pdf.Should be the first argument.\r\n",
        "  mu: Mean of distribution\r\n",
        "  sigma: Standard deviation of distribution\r\n",
        "\r\n",
        "  Returns:\r\n",
        "  The normal pdf evaluated at the value x.\r\n",
        "  \"\"\"\r\n",
        "  constant_term = 1.0/(sigma*np.sqrt(2*np.pi))\r\n",
        "  return constant_term * np.exp((-1/2)*(((x-mu)/sigma)**2))\r\n",
        "\r\n",
        "\r\n",
        "def integrate_pdf(a,b,mu,sigma,show_plot=False):\r\n",
        "  \"\"\"\r\n",
        "  Function to integrate normal pdf to find probability.\r\n",
        "\r\n",
        "  Parameters:\r\n",
        "  a: The lower limit\r\n",
        "  b: The upper limit\r\n",
        "  mu: Mean of distribution\r\n",
        "  sigma: Standard deviation of distribution\r\n",
        "  \"\"\"\r\n",
        "  area,_ = quad(func = normal_probability_density,a = a,b = b,args=(mu,sigma))\r\n",
        "  print(\"Probability that x lies between values \",a,\" and \",b,\" is : \",np.round(area,3))\r\n",
        "  if(show_plot):\r\n",
        "    fig,ax = plt.subplots(figsize=(12,8))\r\n",
        "    \r\n",
        "    # Plotting the gaussian distribution curve\r\n",
        "    x = np.linspace(mu-4*sigma,mu+4*sigma,num=1000)\r\n",
        "    y = normal_probability_density(x,mu,sigma)\r\n",
        "    ax.plot(x,y,color=\"black\",linewidth=5)\r\n",
        "    \r\n",
        "    # Adding texts to the graph\r\n",
        "    plt.text(mu,0.2,r\"$\\mu = %s \\;,\\; \\sigma = %s$\"%(np.round(mu,3),np.round(sigma,3)),\\\r\n",
        "             horizontalalignment=\"center\",fontsize=18)\r\n",
        "    plt.text(mu,float(max(y))+0.05,r\"$P($\"+str(np.round(a,3))+r\"$\\leq X\\leq $\"+str(np.round(b,3))+r\"$)=\\int_{%s}^{%s}\\;\\frac{1}{\\sigma\\sqrt{2\\pi}}\\; e^{-\\frac{(x-\\mu)^2}{2\\sigma^2}} \\mathrm{d}x = $\"%(np.round(a,3),np.round(b,3))+str(np.round(area,3)),\\\r\n",
        "             horizontalalignment=\"center\",fontsize=20,color=\"brown\")\r\n",
        "\r\n",
        "    # Ploting the shaded region\r\n",
        "    shaded_x = np.linspace(a,b)\r\n",
        "    shaded_y = normal_probability_density(shaded_x,mu,sigma)\r\n",
        "    vertices = [(a,0)] + list(zip(shaded_x,shaded_y)) + [(b,0)]\r\n",
        "    poly = Polygon(vertices,facecolor=\"seagreen\",edgecolor=\"black\",alpha=0.8)\r\n",
        "    ax.add_patch(poly)\r\n",
        "\r\n",
        "    # Manipulating axes ticks\r\n",
        "    ymin = 0.0\r\n",
        "    ymax = float(max(y)) + 0.1\r\n",
        "    ax.set_ylim([ymin,ymax])\r\n",
        "    ax.set_xticks([a,b,mu])\r\n",
        "    ax.set_xticklabels([\"a = \"+str(np.round(a,3)),\"b = \"+str(np.round(b,3)),\"$\\mu$ = \"+str(np.round(mu,3))])\r\n",
        "    ax.tick_params(axis=\"x\", colors=\"royalblue\",labelsize=15,length=5,width=3,rotation=45)\r\n",
        "    # Manipulating tick for x coordinates 'a' and 'b' for highlighting\r\n",
        "    for tick, ticklabel in zip(ax.get_xticks(), ax.get_xticklabels()):\r\n",
        "        if(tick == a or tick == b):\r\n",
        "            ticklabel.set_color(\"darkgreen\")\r\n",
        "    ax.set_ylabel(\"Probability Density\",fontsize=20)\r\n",
        "    ax.set_title(\"Area under the gaussian curve\\n\",fontsize=30)\r\n",
        "#     plt.show()\r\n",
        "    plt.savefig(\"gaussianArea_\"+str(np.round(a,1))+\"_\"+str(np.round(b,1))+\".png\")    "
      ],
      "execution_count": null,
      "outputs": []
    },
    {
      "cell_type": "code",
      "metadata": {
        "colab": {
          "base_uri": "https://localhost:8080/",
          "height": 617
        },
        "id": "ydIXSSGDxXEj",
        "outputId": "36a630b6-012d-423e-fddd-0ef5df3fcf81"
      },
      "source": [
        "mu=5.0\r\n",
        "sigma=1.0\r\n",
        "integrate_pdf(4.645,6.78,mu,sigma,show_plot=True)"
      ],
      "execution_count": null,
      "outputs": [
        {
          "output_type": "stream",
          "text": [
            "Probability that x lies between values  4.645  and  6.78  is :  0.601\n"
          ],
          "name": "stdout"
        },
        {
          "output_type": "display_data",
          "data": {
            "image/png": "[encoded data removed]",
            "text/plain": [
              "<Figure size 864x576 with 1 Axes>"
            ]
          },
          "metadata": {
            "tags": [],
            "needs_background": "light"
          }
        }
      ]
    },
    {
      "cell_type": "markdown",
      "metadata": {
        "id": "ODIWWR8lRePp"
      },
      "source": [
        "Profile -> https://github.com/RaviBansal7717\r\n",
        "\r\n",
        "Repo -> https://github.com/RaviBansal7717/data_and_sampling (Contains code and data) "
      ]
    },
    {
      "cell_type": "code",
      "metadata": {
        "id": "Ly-N3KF3RqI9"
      },
      "source": [
        ""
      ],
      "execution_count": null,
      "outputs": []
    }
  ]
}